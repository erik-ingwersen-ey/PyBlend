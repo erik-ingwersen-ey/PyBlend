{
 "cells": [
  {
   "cell_type": "code",
   "execution_count": 1,
   "id": "755a77a7-0118-4032-8336-0a2010606564",
   "metadata": {
    "tags": []
   },
   "outputs": [],
   "source": [
    "import random\n",
    "import sys\n",
    "import time\n",
    "from typing import List, Optional\n",
    "\n",
    "from pyblend.algorithm.constructive import Constructive, LinModel, PostModel, PreModel\n",
    "from pyblend.algorithm.heuristic import Heuristic, LAHC, SA\n",
    "from pyblend.algorithm.neighborhood import (Shift, SimpleSwap, SmartShift,\n",
    "                                            SmartSimpleSwap, SmartSwap, SmartSwitch,\n",
    "                                            Swap, Switch)\n",
    "\n",
    "from pyblend.config import Objective, Parameters\n",
    "from pyblend.model.problem import Problem\n",
    "from pyblend.model.solution import Solution\n",
    "from pyblend.utils import handle_input_path, handle_output_path"
   ]
  },
  {
   "cell_type": "code",
   "execution_count": 2,
   "id": "fc49ffd8-e941-44b6-a401-c4405f06436e",
   "metadata": {
    "tags": []
   },
   "outputs": [],
   "source": [
    "def construct(\n",
    "    problem: Problem, solution: Solution, model: LinModel, parms: Parameters\n",
    ") -> Constructive:\n",
    "    \"\"\"This function executes the selected constructive method.\n",
    "\n",
    "    Parameters\n",
    "    ----------\n",
    "    problem : Problem\n",
    "        The problem reference.\n",
    "    solution : Solution\n",
    "        The solution reference.\n",
    "    model : LinModel\n",
    "        The linear model.\n",
    "    parms : Parameters\n",
    "        The operating guidelines.\n",
    "\n",
    "    Returns\n",
    "    -------\n",
    "    Constructive\n",
    "        The constructive procedure.\n",
    "    \"\"\"\n",
    "    constructive: Constructive\n",
    "\n",
    "    if parms[\"constructive\"] != \"premodel\" and parms[\"constructive\"] != \"postmodel\":\n",
    "        print_usage(parms)\n",
    "\n",
    "    elif parms[\"constructive\"] == \"premodel\":\n",
    "        reclaims = {\n",
    "            f\"id: {k.id}\": [i.weight_ini for i in problem.stockpiles]\n",
    "            for k in problem.outputs\n",
    "        }\n",
    "\n",
    "        inputs = {\n",
    "            f\"id: {k.id}\": [i.weight for i in problem.inputs]\n",
    "            for k in problem.stockpiles\n",
    "        }\n",
    "\n",
    "        objective: Objective = (None, reclaims, inputs)\n",
    "        solution.set_objective(objective)\n",
    "\n",
    "        constructive = PreModel(problem, solution)\n",
    "        constructive.run()\n",
    "\n",
    "        model.add_weights(\"x\", list(constructive._feed_back))\n",
    "        model.add_weights(\"y\", list(constructive._feed_back))\n",
    "\n",
    "    objective = model.resolve()\n",
    "    solution.set_objective(objective)\n",
    "\n",
    "    constructive = PostModel(problem, solution)\n",
    "    constructive.run()\n",
    "\n",
    "    return constructive\n",
    "\n",
    "\n",
    "def solve(\n",
    "    problem: Problem, solution: Solution, constructive: Constructive, parms: Parameters\n",
    ") -> Optional[Heuristic]:\n",
    "    \"\"\"This functions runs the selected heuristic approach.\n",
    "\n",
    "    Parameters\n",
    "    ----------\n",
    "    problem : Problem\n",
    "        The problem reference.\n",
    "    solution : Solution\n",
    "        The solution reference.\n",
    "    constructive : Constructive\n",
    "        The constructive procedure.\n",
    "    parms : Parameters\n",
    "        The operating guidelines.\n",
    "\n",
    "    Returns\n",
    "    -------\n",
    "    Optional[Heuristic]\n",
    "        The heuristic procedure.\n",
    "    \"\"\"\n",
    "    solver: Optional[Heuristic] = None\n",
    "    if parms[\"algorithm\"] == \"lahc\":\n",
    "        solver = LAHC(problem, parms[\"lsize\"])\n",
    "    elif parms[\"algorithm\"] == \"sa\":\n",
    "        solver = SA(problem, parms[\"alpha\"], parms[\"t0\"], parms[\"samax\"])\n",
    "    else:\n",
    "        print_usage(parms)\n",
    "\n",
    "    create_neighborhoods(problem, solver, constructive)\n",
    "    solver.run(solution, parms[\"maxiters\"])\n",
    "\n",
    "    return solver\n",
    "\n",
    "\n",
    "def create_neighborhoods(\n",
    "    problem: Problem, solver: Heuristic, constructive: Constructive\n",
    ") -> None:\n",
    "    \"\"\"This function creates the neighborhoods for the heuristic.\n",
    "\n",
    "    Parameters\n",
    "    ----------\n",
    "    problem : Problem\n",
    "        The problem reference.\n",
    "    solver : Heuristic\n",
    "        The heuristic procedure.\n",
    "    constructive : Constructive\n",
    "        The constructive procedure.\n",
    "    \"\"\"\n",
    "    solver.add_move(Shift(problem, constructive))\n",
    "    solver.add_move(SimpleSwap(problem, constructive))\n",
    "    solver.add_move(Swap(problem, constructive))\n",
    "    solver.add_move(Switch(problem, constructive))\n",
    "    solver.add_move(SmartShift(problem, constructive))\n",
    "    solver.add_move(SmartSimpleSwap(problem, constructive))\n",
    "    solver.add_move(SmartSwap(problem, constructive))\n",
    "    solver.add_move(SmartSwitch(problem, constructive))\n",
    "\n",
    "\n",
    "def feedback_approach(\n",
    "    solution: Solution,\n",
    "    model: LinModel,\n",
    "    solver: Optional[Heuristic],\n",
    "    constructive: Constructive,\n",
    "    parms: Parameters,\n",
    ") -> None:\n",
    "    \"\"\"Run the feedback approach.\n",
    "\n",
    "    Parameters\n",
    "    ----------\n",
    "    solution : Solution\n",
    "        The solution reference.\n",
    "    model : LinModel\n",
    "        The linear model.\n",
    "    solver : Heuristic\n",
    "        The heuristic procedure.\n",
    "    constructive : Constructive\n",
    "        The constructive procedure.\n",
    "    parms : Parameters\n",
    "        The operating guidelines.\n",
    "    \"\"\"\n",
    "    for _ in range(parms[\"feedback\"]):\n",
    "        model.add_weights(\"x\", list(solution.weights.values()))\n",
    "        model.add_weights(\"y\", list(solution.inputs.values()))\n",
    "\n",
    "        objective: Objective = model.resolve()\n",
    "        solution.set_objective(objective)\n",
    "\n",
    "        constructive.run()\n",
    "        if solver is not None:\n",
    "            solver.run(solution, parms[\"maxiters\"], True)\n",
    "\n",
    "\n",
    "def read_args(args: List[str], parms: Parameters) -> None:\n",
    "    \"\"\"Read the input arguments.\n",
    "\n",
    "    Parameters\n",
    "    ----------\n",
    "    args : Lst[str]\n",
    "        The terminal argument list.\n",
    "    parms : Parameters\n",
    "        The operating guidelines.\n",
    "    \"\"\"\n",
    "    if len(args) < 3:\n",
    "        print_usage(parms)\n",
    "\n",
    "    index: int = 3\n",
    "    while index < len(args):\n",
    "        option: str = args[index]\n",
    "        index += 1\n",
    "\n",
    "        if option == \"-constructive\":\n",
    "            parms[\"constructive\"] = args[index]\n",
    "        elif option == \"-algorithm\":\n",
    "            parms[\"algorithm\"] = args[index]\n",
    "        elif option == \"-feedback\":\n",
    "            parms[\"feedback\"] = int(args[index])\n",
    "        elif option == \"-seed\":\n",
    "            parms[\"seed\"] = int(args[index])\n",
    "        elif option == \"-maxiters\":\n",
    "            parms[\"maxiters\"] = int(args[index])\n",
    "\n",
    "        # LAHC\n",
    "        elif option == \"-lsize\":\n",
    "            parms[\"lsize\"] = int(args[index])\n",
    "\n",
    "        # SA\n",
    "        elif option == \"-alpha\":\n",
    "            parms[\"alpha\"] = float(args[index])\n",
    "        elif option == \"-samax\":\n",
    "            parms[\"samax\"] = int(args[index])\n",
    "        elif option == \"-t0\":\n",
    "            parms[\"t0\"] = float(args[index])\n",
    "        else:\n",
    "            print_usage(parms)\n",
    "        index += 1\n",
    "\n",
    "\n",
    "def print_usage(parms: Parameters) -> None:\n",
    "    \"\"\"Print the program usage.\n",
    "\n",
    "    Parameters\n",
    "    ----------\n",
    "    parms : Parameters\n",
    "        The operating guidelines.\n",
    "    \"\"\"\n",
    "    usage: str = (\n",
    "        f\"Usage: python3 src/main.py <input> <output> [options]\\n\"\n",
    "        + f\"    <input>  : Name of the problem input file.\\n\"\n",
    "        + f\"    <output> : Name of the (output) solution file.\\n\"\n",
    "        + f\"\\nOptions:\\n\"\n",
    "        + f'    -constructive <constructive> : premodel, postmodel (default: {parms[\"constructive\"]}).\\n'\n",
    "        + f\"    -algorithm <algorithm>       : lahc, sa.\\n\"\n",
    "        + f'    -feedback <feedback>         : maximum number of feedback interactions with the model (default: {parms[\"feedback\"]}).\\n'\n",
    "        + f'    -seed <seed>                 : random seed (default: {parms[\"seed\"]}).\\n'\n",
    "        + f'    -maxiters <maxiters>         : maximum number of interactions (default: {parms[\"maxiters\"]}).\\n'\n",
    "        + f\"\\n    LAHC parameters:\\n\"\n",
    "        + f'        -lsize <lsize> : LAHC list size (default: {parms[\"lsize\"]}).\\n'\n",
    "        + f\"\\n    SA parameters:\\n\"\n",
    "        + f'        -alpha <alpha> : cooling rate for the Simulated Annealing (default: {parms[\"alpha\"]}).\\n'\n",
    "        + f'        -samax <samax> : iterations before updating the temperature for Simulated Annealing (default: {parms[\"samax\"]}).\\n'\n",
    "        + f'        -t0 <t0>       : initial temperature for the Simulated Annealing (default: {parms[\"t0\"]}). \\n'\n",
    "        + f\"\\nExamples:\\n\"\n",
    "        + f\"    python3 src/main.py instance_1.json out_1.json\\n\"\n",
    "        + f\"    python3 src/main.py instance_1.json out_1.json -constructive premodel -seed 1\\n\"\n",
    "        + f\"    python3 src/main.py instance_1.json out_1.json -algorithm sa -alpha 0.98 -samax 1000 -t0 1e5\\n\"\n",
    "    )\n",
    "\n",
    "    print(usage)"
   ]
  },
  {
   "cell_type": "code",
   "execution_count": 24,
   "id": "3e0e13f7-bfaa-456b-be8b-364377c5254d",
   "metadata": {
    "tags": []
   },
   "outputs": [],
   "source": [
    "start_time = time.time()\n",
    "parms: Parameters = {\n",
    "    \"constructive\": \"premodel\",\n",
    "    \"algorithm\": \"\",\n",
    "    \"feedback\": 0,\n",
    "    \"seed\": 0,\n",
    "    \"maxiters\": int(1e3),\n",
    "    \"lsize\": int(1e3),\n",
    "    \"alpha\": 0.9,\n",
    "    \"samax\": int(1e3),\n",
    "    \"t0\": 1.0,\n",
    "}\n",
    "\n",
    "random.seed(parms[\"seed\"])\n",
    "\n",
    "input_path = handle_input_path(\"instance_1.json\")\n",
    "output_path = handle_output_path(\"./out/json/out_1.json\")"
   ]
  },
  {
   "cell_type": "code",
   "execution_count": 25,
   "id": "46025882-8b00-4153-ba7c-d95105abf521",
   "metadata": {
    "tags": []
   },
   "outputs": [
    {
     "data": {
      "text/plain": [
       "[id: 1\n",
       " speedStack: 0.0\n",
       " speedReclaim: 1300.0\n",
       " posIni: 1\n",
       " rail: 1\n",
       " yards: [1],\n",
       " id: 2\n",
       " speedStack: 3600.0\n",
       " speedReclaim: 1300.0\n",
       " posIni: 2\n",
       " rail: 2\n",
       " yards: [1, 2]]"
      ]
     },
     "execution_count": 25,
     "metadata": {},
     "output_type": "execute_result"
    }
   ],
   "source": [
    "problem = Problem(input_path)\n",
    "problem.engines"
   ]
  },
  {
   "cell_type": "code",
   "execution_count": 26,
   "id": "ff7c3028-08b1-41e2-b595-478ae9ca62e9",
   "metadata": {
    "tags": []
   },
   "outputs": [
    {
     "data": {
      "text/plain": [
       "<pyblend.model.solution.Solution at 0x111019210>"
      ]
     },
     "execution_count": 26,
     "metadata": {},
     "output_type": "execute_result"
    }
   ],
   "source": [
    "solution = Solution(problem)\n",
    "solution"
   ]
  },
  {
   "cell_type": "code",
   "execution_count": 27,
   "id": "e25bc0d2-5ebd-4ffb-bee4-a5f80612f06f",
   "metadata": {
    "tags": []
   },
   "outputs": [
    {
     "data": {
      "text/plain": [
       "[id: 1\n",
       " speedStack: 0.0\n",
       " speedReclaim: 1300.0\n",
       " posIni: 1\n",
       " rail: 1\n",
       " yards: [1],\n",
       " id: 2\n",
       " speedStack: 3600.0\n",
       " speedReclaim: 1300.0\n",
       " posIni: 2\n",
       " rail: 2\n",
       " yards: [1, 2]]"
      ]
     },
     "execution_count": 27,
     "metadata": {},
     "output_type": "execute_result"
    }
   ],
   "source": [
    "problem.engines"
   ]
  },
  {
   "cell_type": "code",
   "execution_count": 28,
   "id": "1814acdd-4d8e-4be9-bea5-b915695e1524",
   "metadata": {
    "tags": []
   },
   "outputs": [
    {
     "data": {
      "text/plain": [
       "<pyblend.algorithm.constructive.linmodel.LinModel at 0x110f63290>"
      ]
     },
     "execution_count": 28,
     "metadata": {},
     "output_type": "execute_result"
    }
   ],
   "source": [
    "model = LinModel(problem)\n",
    "model"
   ]
  },
  {
   "cell_type": "code",
   "execution_count": 29,
   "id": "ef4295e7-0b0b-45ed-9d4c-da25a748b0d2",
   "metadata": {
    "tags": []
   },
   "outputs": [
    {
     "data": {
      "text/plain": [
       "[id: 1\n",
       " speedStack: 0.0\n",
       " speedReclaim: 1300.0\n",
       " posIni: 1\n",
       " rail: 1\n",
       " yards: [1],\n",
       " id: 2\n",
       " speedStack: 3600.0\n",
       " speedReclaim: 1300.0\n",
       " posIni: 2\n",
       " rail: 2\n",
       " yards: [1, 2]]"
      ]
     },
     "execution_count": 29,
     "metadata": {},
     "output_type": "execute_result"
    }
   ],
   "source": [
    "problem.engines"
   ]
  },
  {
   "cell_type": "code",
   "execution_count": 30,
   "id": "fb593c61-0810-4b2f-a7cb-c945a115ce3e",
   "metadata": {
    "tags": []
   },
   "outputs": [
    {
     "name": "stdout",
     "output_type": "stream",
     "text": [
      "Coin0506I Presolve 10 (-18) rows, 14 (-18) columns and 38 (-78) elements\n",
      "Clp1000I sum of infeasibilities 0.346955 - average 0.0346955, 6 fixed columns\n",
      "Coin0506I Presolve 6 (-4) rows, 6 (-8) columns and 15 (-23) elements\n",
      "Clp0029I End of values pass after 3 iterations\n",
      "Clp0000I Optimal - objective value 8523333.3\n",
      "Clp0000I Optimal - objective value 8523333.3\n",
      "Coin0511I After Postsolve, objective 8523333.3, infeasibilities - dual 0 (0), primal 0 (0)\n",
      "Clp0000I Optimal - objective value 8523333.3\n",
      "Clp0000I Optimal - objective value 8523333.3\n",
      "Clp0000I Optimal - objective value 8523333.3\n",
      "Coin0511I After Postsolve, objective 8523333.3, infeasibilities - dual 0 (0), primal 0 (0)\n",
      "Clp0032I Optimal objective 8523333.333 - 0 iterations time 0.002, Presolve 0.00, Idiot 0.00\n",
      "Starting solution of the Linear programming problem using Primal Simplex\n",
      "\n"
     ]
    },
    {
     "data": {
      "text/plain": [
       "<pyblend.algorithm.constructive.postmodel.PostModel at 0x1107f9690>"
      ]
     },
     "execution_count": 30,
     "metadata": {},
     "output_type": "execute_result"
    }
   ],
   "source": [
    "constructive = construct(problem, solution, model, parms)\n",
    "constructive"
   ]
  },
  {
   "cell_type": "code",
   "execution_count": 11,
   "id": "257c609b-422e-4890-a33c-692fb09af430",
   "metadata": {
    "tags": []
   },
   "outputs": [
    {
     "data": {
      "text/plain": [
       "[80000.0, 0.0, 0.0, 0.0]"
      ]
     },
     "execution_count": 11,
     "metadata": {},
     "output_type": "execute_result"
    }
   ],
   "source": [
    "constructive.inputs"
   ]
  },
  {
   "cell_type": "code",
   "execution_count": 13,
   "id": "641e00b9-0231-459f-9fb1-d2d3156e97ba",
   "metadata": {
    "tags": []
   },
   "outputs": [
    {
     "data": {
      "text/plain": [
       "[[200000.0, 89999.99999999916, 10000.00000000086, 0.0]]"
      ]
     },
     "execution_count": 13,
     "metadata": {},
     "output_type": "execute_result"
    }
   ],
   "source": [
    "constructive.weights"
   ]
  },
  {
   "cell_type": "code",
   "execution_count": 17,
   "id": "f3f2e1ee-32ba-46f9-968b-15281780a1da",
   "metadata": {
    "tags": []
   },
   "outputs": [
    {
     "data": {
      "text/plain": [
       "[[(1, 'r')], [(2, 'r'), (0, 'b')]]"
      ]
     },
     "execution_count": 17,
     "metadata": {},
     "output_type": "execute_result"
    }
   ],
   "source": [
    "constructive.solution.routes"
   ]
  },
  {
   "cell_type": "code",
   "execution_count": 31,
   "id": "3b48502f-8289-4c8f-a8b9-19420b851b73",
   "metadata": {
    "tags": []
   },
   "outputs": [
    {
     "data": {
      "text/plain": [
       "[id: 1\n",
       " speedStack: 0.0\n",
       " speedReclaim: 1300.0\n",
       " posIni: 1\n",
       " rail: 1\n",
       " yards: [1],\n",
       " id: 2\n",
       " speedStack: 3600.0\n",
       " speedReclaim: 1300.0\n",
       " posIni: 2\n",
       " rail: 2\n",
       " yards: [1, 2]]"
      ]
     },
     "execution_count": 31,
     "metadata": {},
     "output_type": "execute_result"
    }
   ],
   "source": [
    "constructive.problem.engines"
   ]
  },
  {
   "cell_type": "code",
   "execution_count": null,
   "id": "032c2068-2dc4-4b08-9fd1-0fa9dfa4715f",
   "metadata": {},
   "outputs": [],
   "source": [
    "# solver = None\n",
    "# if parms[\"algorithm\"] != \"\":\n",
    "#     solver = solve(problem, solution, constructive, parms)\n",
    "#     solution = solver.best_solution\n",
    "\n",
    "# if parms[\"feedback\"] > 0:\n",
    "#     feedback_approach(solution, model, solver, constructive, parms)\n",
    "\n",
    "solution.set_deliveries()"
   ]
  },
  {
   "cell_type": "code",
   "execution_count": null,
   "id": "65fcb1c7-64a0-43a9-9638-a1ffd9d41385",
   "metadata": {},
   "outputs": [],
   "source": [
    "solution.write(output_path, round(time.time()-start_time, 2))"
   ]
  }
 ],
 "metadata": {
  "kernelspec": {
   "display_name": "Python 3 (ipykernel)",
   "language": "python",
   "name": "python3"
  },
  "language_info": {
   "codemirror_mode": {
    "name": "ipython",
    "version": 3
   },
   "file_extension": ".py",
   "mimetype": "text/x-python",
   "name": "python",
   "nbconvert_exporter": "python",
   "pygments_lexer": "ipython3",
   "version": "3.11.9"
  }
 },
 "nbformat": 4,
 "nbformat_minor": 5
}
