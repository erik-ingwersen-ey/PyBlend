{
 "cells": [
  {
   "metadata": {
    "ExecuteTime": {
     "end_time": "2024-08-28T18:16:07.704331Z",
     "start_time": "2024-08-28T18:16:07.682414Z"
    }
   },
   "cell_type": "code",
   "source": [
    "from __future__ import annotations\n",
    "\n",
    "import json\n",
    "import random\n",
    "from pathlib import Path"
   ],
   "id": "ecc2df2c455115a1",
   "outputs": [],
   "execution_count": 12
  },
  {
   "cell_type": "code",
   "id": "initial_id",
   "metadata": {
    "collapsed": true,
    "ExecuteTime": {
     "end_time": "2024-08-28T18:16:57.133244Z",
     "start_time": "2024-08-28T18:16:57.108626Z"
    }
   },
   "source": [
    "def validate_parameters(output_weight, quality_params):\n",
    "    \"\"\"Validate the quality parameters and output weight.\"\"\"\n",
    "    if output_weight <= 0:\n",
    "        raise ValueError(\"Output weight must be greater than 0.\")\n",
    "\n",
    "    for param in quality_params:\n",
    "        minimum = param.get(\"minimum\")\n",
    "        maximum = param.get(\"maximum\")\n",
    "        goal = param.get(\"goal\")\n",
    "        importance = param.get(\"importance\")\n",
    "        \n",
    "        if minimum is None or maximum is None or goal is None or importance is None:\n",
    "            raise ValueError(\"All quality parameters must include 'minimum', 'maximum', 'goal', and 'importance'.\")\n",
    "        \n",
    "        if not (minimum < goal <= maximum):\n",
    "            raise ValueError(f\"Invalid quality parameter values: minimum ({minimum}), goal ({goal}), maximum ({maximum}).\")\n",
    "        \n",
    "        if importance <= 0:\n",
    "            raise ValueError(\"Importance must be greater than 0.\")\n",
    "\n",
    "\n",
    "def generate_quality_values(quality_params):\n",
    "    \"\"\"Generate random quality values for stockpiles based on output quality parameters.\"\"\"\n",
    "    stock_quality = []\n",
    "    for param in quality_params:\n",
    "        quality = {\n",
    "            \"parameter\": param[\"parameter\"],\n",
    "            \"value\": round(random.uniform(param[\"minimum\"], param[\"maximum\"]), 2)\n",
    "        }\n",
    "        stock_quality.append(quality)\n",
    "    return stock_quality\n",
    "\n",
    "\n",
    "def generate_problem_data(num_stockpiles, num_engines, can_access_all, output_weight, quality_params):\n",
    "    \"\"\"Generate the problem data in JSON format based on the given parameters.\"\"\"\n",
    "    \n",
    "    # Validate the output weight and quality parameters\n",
    "    validate_parameters(output_weight, quality_params)\n",
    "    \n",
    "    # Create stockpiles with valid quality parameters\n",
    "    stockpiles = []\n",
    "    total_weight = 0\n",
    "    \n",
    "    for i in range(1, num_stockpiles + 1):\n",
    "        weight_ini = int(\n",
    "            round(\n",
    "                random.uniform(\n",
    "                    output_weight / num_stockpiles,\n",
    "                    output_weight / (num_stockpiles - i + 1)\n",
    "                ),\n",
    "                0,\n",
    "            )\n",
    "        )\n",
    "        total_weight += weight_ini\n",
    "        stockpile = {\n",
    "            \"id\": i,\n",
    "            \"position\": i - 1,\n",
    "            \"yard\": random.randint(1, num_stockpiles // 5 + 1),  # Randomly assign to a yard\n",
    "            \"rails\": [1, 2] if can_access_all else [random.randint(1, 2)],\n",
    "            \"capacity\": weight_ini,  # Assuming capacity is double the initial weight\n",
    "            \"weightIni\": weight_ini,\n",
    "            \"qualityIni\": generate_quality_values(quality_params)\n",
    "        }\n",
    "        stockpiles.append(stockpile)\n",
    "    \n",
    "    # Ensure the total weight exceeds the required output weight\n",
    "    if total_weight <= output_weight:\n",
    "        raise ValueError(\"Sum of all stockpile weights must be greater than the specified output weight.\")\n",
    "    \n",
    "    # Generate engines\n",
    "    engines = []\n",
    "    for j in range(1, num_engines + 1):\n",
    "        engine = {\n",
    "            \"id\": j,\n",
    "            \"speedStack\": 0.0,\n",
    "            \"speedReclaim\": random.randint(2500, 4000),\n",
    "            \"posIni\": random.randint(1, num_stockpiles),\n",
    "            \"rail\": random.randint(1, 2),\n",
    "            \"yards\": list(range(1, num_stockpiles // 5 + 2)) if can_access_all else [random.randint(1, num_stockpiles // 5 + 1)]\n",
    "        }\n",
    "        engines.append(engine)\n",
    "    \n",
    "    # Generate distances and travel times between stockpiles\n",
    "    distances_travel = []\n",
    "    time_travel = []\n",
    "    for i in range(num_stockpiles):\n",
    "        distances_row = []\n",
    "        time_row = []\n",
    "        for j in range(num_stockpiles):\n",
    "            if i == j:\n",
    "                distances_row.append(0.0)\n",
    "                time_row.append(0.06)\n",
    "            else:\n",
    "                distance = round(random.uniform(0.05, 1.5), 2)\n",
    "                distances_row.append(distance)\n",
    "                time_row.append(round(distance / random.uniform(1, 2), 2))  # \n",
    "                # Random time based on distance\n",
    "        distances_travel.append(distances_row)\n",
    "        time_travel.append(time_row)\n",
    "    \n",
    "    # Prepare the output JSON structure\n",
    "    problem_data = {\n",
    "        \"info\": [\"Generated_Instance\", 1000, 1],\n",
    "        \"stockpiles\": stockpiles,\n",
    "        \"engines\": engines,\n",
    "        \"inputs\": [\n",
    "            {\n",
    "                \"id\": 1,\n",
    "                \"weight\": 0.0,\n",
    "                \"quality\": [{\"parameter\": param[\"parameter\"], \"value\": param[\"goal\"]} for param in quality_params],\n",
    "                \"time\": 0\n",
    "            }\n",
    "        ],\n",
    "        \"outputs\": [\n",
    "            {\n",
    "                \"id\": 1,\n",
    "                \"destination\": 1,\n",
    "                \"weight\": output_weight,\n",
    "                \"quality\": quality_params,\n",
    "                \"time\": 0\n",
    "            }\n",
    "        ],\n",
    "        \"distancesTravel\": distances_travel,\n",
    "        \"timeTravel\": time_travel\n",
    "    }\n",
    "    \n",
    "    return problem_data\n",
    "\n",
    "\n",
    "def save_new_instance(\n",
    "    data: dict,\n",
    "    folder_path: str | Path,\n",
    "    name_pattern: str = \"instance_*.json\",\n",
    "):\n",
    "    _folder_path = Path(folder_path)\n",
    "    if _folder_path.is_file():\n",
    "        raise ValueError(\n",
    "            \"The folder path must be a path to an existing or to be created \"\n",
    "            f\"directory, not a file: '{folder_path}'\"\n",
    "        )\n",
    "    _folder_path.mkdir(exist_ok=True, parents=True)\n",
    "    files_enumerations = []\n",
    "    for filepath in _folder_path.glob(name_pattern):\n",
    "        filename = filepath.with_suffix(\"\").name\n",
    "        number = \"\".join(\n",
    "            character for character in filename if character.isnumeric()\n",
    "        )\n",
    "        if number != \"\":\n",
    "            files_enumerations.append(number)\n",
    "\n",
    "    next_enumeration = 1\n",
    "\n",
    "    if len(files_enumerations) > 0:\n",
    "        files_enumerations = [int(number) for number in files_enumerations]\n",
    "        last_enumeration = max(files_enumerations)\n",
    "        next_enumeration = last_enumeration + 1\n",
    "\n",
    "    new_filename = name_pattern.replace(\"*\", str(next_enumeration))\n",
    "    new_filepath = _folder_path.joinpath(new_filename).with_suffix(\".json\")\n",
    "\n",
    "    while new_filepath.is_file():\n",
    "        next_enumeration += 1\n",
    "        new_filename = name_pattern.replace(\"*\", str(next_enumeration))\n",
    "        new_filepath = _folder_path.joinpath(new_filename).with_suffix(\".json\")\n",
    "\n",
    "    with open(str(new_filepath), \"w\", encoding=\"utf-8\") as fp:\n",
    "        json.dump(data, fp, indent=2, allow_nan=False)\n",
    "\n",
    "    print(f\"Successfully saved generated data to: '{new_filepath}'\")"
   ],
   "outputs": [],
   "execution_count": 16
  },
  {
   "metadata": {
    "ExecuteTime": {
     "end_time": "2024-08-28T18:16:18.561266Z",
     "start_time": "2024-08-28T18:16:18.550183Z"
    }
   },
   "cell_type": "code",
   "source": [
    "# Example usage\n",
    "quality_params_example = [\n",
    "    {\"parameter\": \"Fe\", \"minimum\": 60, \"maximum\": 100, \"goal\": 65, \"importance\": 10},\n",
    "    {\"parameter\": \"SiO2\", \"minimum\": 2.8, \"maximum\": 5.8, \"goal\": 5.8, \"importance\": 1000},\n",
    "    {\"parameter\": \"Al2O3\", \"minimum\": 2.5, \"maximum\": 4.9, \"goal\": 4.9, \"importance\": 100},\n",
    "    {\"parameter\": \"P\", \"minimum\": 0.05, \"maximum\": 0.07, \"goal\": 0.07, \"importance\": 100},\n",
    "    {\"parameter\": \"+31.5\", \"minimum\": 8, \"maximum\": 10, \"goal\": 10, \"importance\": 100},\n",
    "    {\"parameter\": \"-6.3\", \"minimum\": 20, \"maximum\": 25, \"goal\": 25, \"importance\": 100}\n",
    "]\n",
    "\n",
    "generated_data = generate_problem_data(\n",
    "    num_stockpiles=20,\n",
    "    num_engines=3,\n",
    "    can_access_all=True,\n",
    "    output_weight=500_000,\n",
    "    quality_params=quality_params_example\n",
    ")\n",
    "\n",
    "save_new_instance(generated_data, \"../tests\")"
   ],
   "id": "5d3ce8c9836019f4",
   "outputs": [
    {
     "name": "stdout",
     "output_type": "stream",
     "text": [
      "{'info': ['Generated_Instance', 1000, 1], 'stockpiles': [{'id': 1, 'position': 0, 'yard': 4, 'rails': [1, 2], 'capacity': 25000, 'weightIni': 25000, 'qualityIni': [{'parameter': 'Fe', 'value': 62.72}, {'parameter': 'SiO2', 'value': 3.96}, {'parameter': 'Al2O3', 'value': 4.77}, {'parameter': 'P', 'value': 0.06}, {'parameter': '+31.5', 'value': 9.89}, {'parameter': '-6.3', 'value': 22.3}]}, {'id': 2, 'position': 1, 'yard': 3, 'rails': [1, 2], 'capacity': 25503, 'weightIni': 25503, 'qualityIni': [{'parameter': 'Fe', 'value': 65.15}, {'parameter': 'SiO2', 'value': 4.52}, {'parameter': 'Al2O3', 'value': 3.92}, {'parameter': 'P', 'value': 0.07}, {'parameter': '+31.5', 'value': 8.22}, {'parameter': '-6.3', 'value': 20.67}]}, {'id': 3, 'position': 2, 'yard': 1, 'rails': [1, 2], 'capacity': 27167, 'weightIni': 27167, 'qualityIni': [{'parameter': 'Fe', 'value': 99.91}, {'parameter': 'SiO2', 'value': 5.5}, {'parameter': 'Al2O3', 'value': 4.15}, {'parameter': 'P', 'value': 0.07}, {'parameter': '+31.5', 'value': 9.45}, {'parameter': '-6.3', 'value': 24.89}]}, {'id': 4, 'position': 3, 'yard': 3, 'rails': [1, 2], 'capacity': 26416, 'weightIni': 26416, 'qualityIni': [{'parameter': 'Fe', 'value': 88.62}, {'parameter': 'SiO2', 'value': 2.97}, {'parameter': 'Al2O3', 'value': 2.99}, {'parameter': 'P', 'value': 0.06}, {'parameter': '+31.5', 'value': 8.85}, {'parameter': '-6.3', 'value': 24.54}]}, {'id': 5, 'position': 4, 'yard': 4, 'rails': [1, 2], 'capacity': 26085, 'weightIni': 26085, 'qualityIni': [{'parameter': 'Fe', 'value': 82.87}, {'parameter': 'SiO2', 'value': 4.6}, {'parameter': 'Al2O3', 'value': 3.25}, {'parameter': 'P', 'value': 0.06}, {'parameter': '+31.5', 'value': 8.73}, {'parameter': '-6.3', 'value': 24.76}]}, {'id': 6, 'position': 5, 'yard': 1, 'rails': [1, 2], 'capacity': 28159, 'weightIni': 28159, 'qualityIni': [{'parameter': 'Fe', 'value': 80.85}, {'parameter': 'SiO2', 'value': 4.7}, {'parameter': 'Al2O3', 'value': 3.7}, {'parameter': 'P', 'value': 0.06}, {'parameter': '+31.5', 'value': 9.97}, {'parameter': '-6.3', 'value': 23.39}]}, {'id': 7, 'position': 6, 'yard': 4, 'rails': [1, 2], 'capacity': 27941, 'weightIni': 27941, 'qualityIni': [{'parameter': 'Fe', 'value': 94.89}, {'parameter': 'SiO2', 'value': 3.61}, {'parameter': 'Al2O3', 'value': 2.67}, {'parameter': 'P', 'value': 0.06}, {'parameter': '+31.5', 'value': 9.55}, {'parameter': '-6.3', 'value': 23.24}]}, {'id': 8, 'position': 7, 'yard': 2, 'rails': [1, 2], 'capacity': 30594, 'weightIni': 30594, 'qualityIni': [{'parameter': 'Fe', 'value': 86.77}, {'parameter': 'SiO2', 'value': 4.49}, {'parameter': 'Al2O3', 'value': 4.77}, {'parameter': 'P', 'value': 0.05}, {'parameter': '+31.5', 'value': 9.21}, {'parameter': '-6.3', 'value': 23.0}]}, {'id': 9, 'position': 8, 'yard': 1, 'rails': [1, 2], 'capacity': 25198, 'weightIni': 25198, 'qualityIni': [{'parameter': 'Fe', 'value': 80.55}, {'parameter': 'SiO2', 'value': 4.68}, {'parameter': 'Al2O3', 'value': 3.52}, {'parameter': 'P', 'value': 0.06}, {'parameter': '+31.5', 'value': 9.64}, {'parameter': '-6.3', 'value': 24.1}]}, {'id': 10, 'position': 9, 'yard': 4, 'rails': [1, 2], 'capacity': 40324, 'weightIni': 40324, 'qualityIni': [{'parameter': 'Fe', 'value': 72.12}, {'parameter': 'SiO2', 'value': 4.94}, {'parameter': 'Al2O3', 'value': 4.38}, {'parameter': 'P', 'value': 0.05}, {'parameter': '+31.5', 'value': 8.57}, {'parameter': '-6.3', 'value': 21.68}]}, {'id': 11, 'position': 10, 'yard': 2, 'rails': [1, 2], 'capacity': 38898, 'weightIni': 38898, 'qualityIni': [{'parameter': 'Fe', 'value': 81.19}, {'parameter': 'SiO2', 'value': 4.38}, {'parameter': 'Al2O3', 'value': 4.17}, {'parameter': 'P', 'value': 0.06}, {'parameter': '+31.5', 'value': 8.11}, {'parameter': '-6.3', 'value': 21.67}]}, {'id': 12, 'position': 11, 'yard': 2, 'rails': [1, 2], 'capacity': 28040, 'weightIni': 28040, 'qualityIni': [{'parameter': 'Fe', 'value': 79.51}, {'parameter': 'SiO2', 'value': 5.39}, {'parameter': 'Al2O3', 'value': 3.06}, {'parameter': 'P', 'value': 0.05}, {'parameter': '+31.5', 'value': 8.59}, {'parameter': '-6.3', 'value': 20.95}]}, {'id': 13, 'position': 12, 'yard': 3, 'rails': [1, 2], 'capacity': 60526, 'weightIni': 60526, 'qualityIni': [{'parameter': 'Fe', 'value': 90.31}, {'parameter': 'SiO2', 'value': 2.89}, {'parameter': 'Al2O3', 'value': 3.96}, {'parameter': 'P', 'value': 0.06}, {'parameter': '+31.5', 'value': 9.56}, {'parameter': '-6.3', 'value': 24.88}]}, {'id': 14, 'position': 13, 'yard': 5, 'rails': [1, 2], 'capacity': 60251, 'weightIni': 60251, 'qualityIni': [{'parameter': 'Fe', 'value': 84.82}, {'parameter': 'SiO2', 'value': 4.25}, {'parameter': 'Al2O3', 'value': 4.5}, {'parameter': 'P', 'value': 0.06}, {'parameter': '+31.5', 'value': 8.68}, {'parameter': '-6.3', 'value': 24.77}]}, {'id': 15, 'position': 14, 'yard': 1, 'rails': [1, 2], 'capacity': 50154, 'weightIni': 50154, 'qualityIni': [{'parameter': 'Fe', 'value': 97.21}, {'parameter': 'SiO2', 'value': 3.33}, {'parameter': 'Al2O3', 'value': 3.76}, {'parameter': 'P', 'value': 0.06}, {'parameter': '+31.5', 'value': 8.04}, {'parameter': '-6.3', 'value': 24.85}]}, {'id': 16, 'position': 15, 'yard': 1, 'rails': [1, 2], 'capacity': 49924, 'weightIni': 49924, 'qualityIni': [{'parameter': 'Fe', 'value': 71.15}, {'parameter': 'SiO2', 'value': 4.9}, {'parameter': 'Al2O3', 'value': 4.53}, {'parameter': 'P', 'value': 0.06}, {'parameter': '+31.5', 'value': 9.58}, {'parameter': '-6.3', 'value': 22.14}]}, {'id': 17, 'position': 16, 'yard': 3, 'rails': [1, 2], 'capacity': 45305, 'weightIni': 45305, 'qualityIni': [{'parameter': 'Fe', 'value': 70.19}, {'parameter': 'SiO2', 'value': 4.18}, {'parameter': 'Al2O3', 'value': 2.85}, {'parameter': 'P', 'value': 0.07}, {'parameter': '+31.5', 'value': 9.3}, {'parameter': '-6.3', 'value': 20.94}]}, {'id': 18, 'position': 17, 'yard': 3, 'rails': [1, 2], 'capacity': 130573, 'weightIni': 130573, 'qualityIni': [{'parameter': 'Fe', 'value': 72.59}, {'parameter': 'SiO2', 'value': 3.69}, {'parameter': 'Al2O3', 'value': 3.06}, {'parameter': 'P', 'value': 0.07}, {'parameter': '+31.5', 'value': 9.19}, {'parameter': '-6.3', 'value': 23.61}]}, {'id': 19, 'position': 18, 'yard': 1, 'rails': [1, 2], 'capacity': 216721, 'weightIni': 216721, 'qualityIni': [{'parameter': 'Fe', 'value': 95.3}, {'parameter': 'SiO2', 'value': 3.66}, {'parameter': 'Al2O3', 'value': 3.99}, {'parameter': 'P', 'value': 0.06}, {'parameter': '+31.5', 'value': 9.99}, {'parameter': '-6.3', 'value': 21.29}]}, {'id': 20, 'position': 19, 'yard': 3, 'rails': [1, 2], 'capacity': 199491, 'weightIni': 199491, 'qualityIni': [{'parameter': 'Fe', 'value': 92.77}, {'parameter': 'SiO2', 'value': 5.45}, {'parameter': 'Al2O3', 'value': 4.41}, {'parameter': 'P', 'value': 0.05}, {'parameter': '+31.5', 'value': 9.9}, {'parameter': '-6.3', 'value': 22.21}]}], 'engines': [{'id': 1, 'speedStack': 0.0, 'speedReclaim': 3669, 'posIni': 13, 'rail': 2, 'yards': [1, 2, 3, 4, 5]}, {'id': 2, 'speedStack': 0.0, 'speedReclaim': 2609, 'posIni': 4, 'rail': 1, 'yards': [1, 2, 3, 4, 5]}, {'id': 3, 'speedStack': 0.0, 'speedReclaim': 2581, 'posIni': 15, 'rail': 1, 'yards': [1, 2, 3, 4, 5]}], 'inputs': [{'id': 1, 'weight': 0.0, 'quality': [{'parameter': 'Fe', 'value': 65}, {'parameter': 'SiO2', 'value': 5.8}, {'parameter': 'Al2O3', 'value': 4.9}, {'parameter': 'P', 'value': 0.07}, {'parameter': '+31.5', 'value': 10}, {'parameter': '-6.3', 'value': 25}], 'time': 0}], 'outputs': [{'id': 1, 'destination': 1, 'weight': 500000, 'quality': [{'parameter': 'Fe', 'minimum': 60, 'maximum': 100, 'goal': 65, 'importance': 10}, {'parameter': 'SiO2', 'minimum': 2.8, 'maximum': 5.8, 'goal': 5.8, 'importance': 1000}, {'parameter': 'Al2O3', 'minimum': 2.5, 'maximum': 4.9, 'goal': 4.9, 'importance': 100}, {'parameter': 'P', 'minimum': 0.05, 'maximum': 0.07, 'goal': 0.07, 'importance': 100}, {'parameter': '+31.5', 'minimum': 8, 'maximum': 10, 'goal': 10, 'importance': 100}, {'parameter': '-6.3', 'minimum': 20, 'maximum': 25, 'goal': 25, 'importance': 100}], 'time': 0}], 'distancesTravel': [[0.0, 1.48, 0.09, 1.42, 1.08, 0.18, 1.29, 0.23, 0.08, 1.43, 0.75, 0.3, 0.73, 0.61, 1.25, 0.49, 0.46, 0.55, 0.25, 0.4], [1.2, 0.0, 1.22, 1.48, 0.65, 0.17, 1.23, 1.21, 1.1, 0.77, 0.87, 0.8, 0.95, 0.93, 0.89, 1.43, 0.67, 1.18, 0.8, 1.23], [0.12, 1.2, 0.0, 0.3, 0.73, 0.51, 0.71, 1.15, 1.12, 0.9, 0.11, 1.08, 1.02, 0.15, 0.96, 0.77, 0.34, 0.35, 1.22, 1.28], [0.5, 0.26, 1.37, 0.0, 1.21, 1.06, 0.99, 0.67, 0.63, 1.24, 1.34, 0.86, 1.2, 0.47, 0.17, 1.46, 0.77, 0.7, 1.18, 0.34], [0.52, 0.57, 1.29, 0.1, 0.0, 0.18, 0.61, 1.17, 0.34, 0.7, 1.13, 0.68, 0.75, 0.14, 1.11, 1.47, 0.53, 0.51, 1.5, 0.48], [0.13, 1.0, 1.45, 0.86, 1.25, 0.0, 1.23, 0.23, 0.9, 0.77, 0.09, 0.84, 0.08, 1.11, 0.64, 1.16, 0.33, 0.32, 1.0, 0.59], [1.43, 0.99, 1.39, 0.6, 0.56, 0.86, 0.0, 0.44, 1.06, 0.32, 0.48, 0.44, 0.68, 0.22, 0.35, 0.48, 0.21, 1.12, 1.06, 0.84], [0.17, 1.33, 0.65, 0.36, 1.39, 1.43, 0.34, 0.0, 1.08, 0.46, 0.26, 1.49, 0.77, 0.98, 0.62, 1.16, 0.91, 0.36, 1.33, 1.07], [1.05, 0.28, 0.2, 0.62, 0.98, 0.34, 0.14, 0.84, 0.0, 1.12, 1.12, 0.75, 0.95, 1.33, 0.09, 1.41, 1.33, 0.66, 1.14, 1.46], [0.22, 0.78, 1.47, 0.7, 1.36, 1.04, 1.05, 1.26, 0.43, 0.0, 1.14, 1.11, 0.41, 0.47, 1.33, 0.83, 0.59, 0.36, 0.9, 1.16], [1.41, 0.43, 1.0, 1.24, 0.15, 1.13, 0.77, 0.34, 0.58, 0.38, 0.0, 0.79, 0.16, 0.69, 0.71, 0.2, 0.15, 1.31, 0.4, 0.52], [0.8, 1.24, 1.48, 0.71, 0.49, 0.97, 0.26, 0.83, 0.68, 1.42, 1.15, 0.0, 0.66, 0.93, 1.25, 1.31, 1.35, 1.43, 0.73, 1.32], [0.94, 0.64, 0.76, 0.6, 0.66, 0.81, 0.2, 1.36, 0.95, 1.39, 1.14, 1.01, 0.0, 1.04, 0.65, 0.29, 0.56, 0.29, 0.48, 1.09], [1.34, 1.16, 0.65, 0.38, 0.57, 0.7, 1.02, 0.44, 0.7, 1.03, 1.47, 0.76, 0.56, 0.0, 0.24, 0.32, 0.59, 1.2, 1.17, 0.71], [1.17, 0.71, 0.82, 1.42, 0.22, 0.24, 0.71, 0.32, 1.02, 0.76, 1.4, 1.4, 0.79, 0.21, 0.0, 0.22, 0.51, 1.05, 0.9, 0.73], [1.06, 1.46, 0.35, 1.29, 0.95, 0.41, 1.1, 0.68, 0.55, 0.7, 1.48, 0.91, 0.42, 1.46, 0.72, 0.0, 0.55, 0.17, 0.29, 0.06], [0.28, 1.27, 1.38, 0.72, 0.36, 0.41, 1.0, 0.2, 1.39, 0.99, 0.1, 0.42, 0.22, 1.27, 0.16, 1.22, 0.0, 1.44, 0.07, 1.34], [0.72, 0.5, 1.41, 0.72, 0.69, 0.34, 1.26, 0.65, 0.62, 1.03, 0.45, 0.35, 0.34, 0.32, 0.91, 0.67, 0.74, 0.0, 0.82, 0.83], [0.5, 0.76, 0.84, 0.26, 0.17, 0.21, 0.35, 1.12, 0.73, 0.08, 1.17, 0.71, 0.29, 0.36, 0.14, 0.49, 0.49, 0.79, 0.0, 0.45], [1.15, 0.66, 0.54, 1.1, 0.52, 1.46, 1.36, 0.99, 0.73, 0.33, 0.95, 1.31, 1.13, 0.64, 1.11, 0.47, 0.58, 0.55, 0.49, 0.0]], 'timeTravel': [[0.06, 1.05, 0.05, 0.87, 0.59, 0.16, 1.13, 0.18, 0.04, 0.91, 0.46, 0.2, 0.43, 0.34, 1.15, 0.3, 0.28, 0.42, 0.13, 0.27], [0.79, 0.06, 1.16, 1.07, 0.34, 0.09, 0.77, 1.06, 0.56, 0.43, 0.62, 0.55, 0.56, 0.57, 0.5, 0.8, 0.44, 0.74, 0.43, 0.74], [0.07, 0.69, 0.06, 0.22, 0.58, 0.47, 0.54, 0.93, 0.68, 0.8, 0.1, 0.74, 0.75, 0.1, 0.61, 0.46, 0.17, 0.19, 0.69, 0.7], [0.29, 0.25, 1.16, 0.06, 1.01, 0.88, 0.62, 0.47, 0.54, 0.68, 0.68, 0.66, 0.68, 0.24, 0.11, 0.75, 0.58, 0.43, 0.71, 0.27], [0.39, 0.48, 1.05, 0.07, 0.06, 0.17, 0.47, 0.61, 0.18, 0.55, 0.67, 0.62, 0.57, 0.11, 0.71, 1.02, 0.5, 0.49, 1.2, 0.24], [0.08, 0.71, 1.04, 0.45, 1.07, 0.06, 0.7, 0.12, 0.52, 0.56, 0.08, 0.58, 0.04, 0.84, 0.35, 1.16, 0.22, 0.17, 0.95, 0.4], [1.05, 0.66, 0.7, 0.32, 0.39, 0.67, 0.06, 0.28, 0.96, 0.17, 0.25, 0.23, 0.39, 0.18, 0.18, 0.41, 0.15, 0.86, 0.98, 0.47], [0.12, 1.13, 0.37, 0.31, 1.08, 0.74, 0.23, 0.06, 0.54, 0.25, 0.13, 1.35, 0.41, 0.72, 0.49, 1.0, 0.77, 0.29, 1.02, 0.97], [0.65, 0.26, 0.13, 0.32, 0.87, 0.26, 0.08, 0.49, 0.06, 0.58, 0.63, 0.59, 0.75, 0.9, 0.05, 0.81, 1.19, 0.53, 0.78, 0.87], [0.14, 0.51, 1.04, 0.63, 0.72, 0.52, 0.76, 0.94, 0.24, 0.06, 1.03, 1.05, 0.22, 0.25, 0.73, 0.57, 0.37, 0.25, 0.49, 0.76], [1.06, 0.23, 0.93, 1.12, 0.15, 0.66, 0.62, 0.22, 0.35, 0.35, 0.06, 0.47, 0.1, 0.47, 0.48, 0.16, 0.12, 1.21, 0.24, 0.36], [0.59, 1.01, 1.13, 0.48, 0.25, 0.86, 0.22, 0.52, 0.37, 0.95, 0.63, 0.06, 0.4, 0.51, 0.88, 1.28, 1.11, 1.38, 0.44, 1.19], [0.77, 0.42, 0.58, 0.45, 0.37, 0.47, 0.17, 1.0, 0.66, 1.01, 1.0, 0.64, 0.06, 0.52, 0.56, 0.16, 0.5, 0.18, 0.46, 0.65], [1.15, 0.93, 0.38, 0.29, 0.33, 0.53, 0.96, 0.41, 0.4, 0.53, 1.09, 0.57, 0.3, 0.06, 0.22, 0.19, 0.45, 0.87, 0.84, 0.42], [0.75, 0.45, 0.63, 0.88, 0.15, 0.15, 0.56, 0.24, 0.58, 0.74, 0.99, 1.32, 0.51, 0.12, 0.06, 0.15, 0.48, 0.65, 0.53, 0.6], [0.64, 1.22, 0.33, 0.71, 0.77, 0.27, 0.57, 0.38, 0.32, 0.45, 1.22, 0.76, 0.22, 1.19, 0.58, 0.06, 0.35, 0.12, 0.28, 0.03], [0.21, 0.65, 1.24, 0.67, 0.33, 0.4, 0.5, 0.11, 0.87, 0.51, 0.06, 0.37, 0.15, 0.7, 0.14, 0.69, 0.06, 1.12, 0.04, 0.73], [0.41, 0.26, 0.72, 0.4, 0.53, 0.22, 0.98, 0.36, 0.39, 0.6, 0.3, 0.18, 0.31, 0.26, 0.71, 0.66, 0.64, 0.06, 0.55, 0.48], [0.27, 0.46, 0.79, 0.23, 0.16, 0.15, 0.22, 0.58, 0.6, 0.04, 0.6, 0.38, 0.16, 0.28, 0.09, 0.28, 0.36, 0.4, 0.06, 0.24], [0.8, 0.44, 0.39, 0.7, 0.27, 1.45, 0.72, 0.85, 0.55, 0.19, 0.71, 1.06, 0.68, 0.49, 0.57, 0.28, 0.36, 0.32, 0.28, 0.06]]}\n"
     ]
    }
   ],
   "execution_count": 14
  },
  {
   "metadata": {
    "ExecuteTime": {
     "end_time": "2024-08-28T18:17:01.335256Z",
     "start_time": "2024-08-28T18:17:01.321811Z"
    }
   },
   "cell_type": "code",
   "source": "save_new_instance(generated_data, \"../tests\")",
   "id": "6d977d42bd06765c",
   "outputs": [
    {
     "name": "stdout",
     "output_type": "stream",
     "text": [
      "Successfully saved generated data to ../tests/instance_9.json!\n"
     ]
    }
   ],
   "execution_count": 17
  },
  {
   "metadata": {
    "ExecuteTime": {
     "end_time": "2024-08-27T19:56:12.539238Z",
     "start_time": "2024-08-27T19:56:12.532383Z"
    }
   },
   "cell_type": "code",
   "source": [
    "with open(\"../tests/instance_8.json\", \"w\", encoding=\"utf-8\") as fp:\n",
    "    json.dump(generated_data, fp, indent=4, allow_nan=False)"
   ],
   "id": "b62930dd5d72ef8a",
   "outputs": [],
   "execution_count": 5
  },
  {
   "metadata": {},
   "cell_type": "code",
   "outputs": [],
   "execution_count": null,
   "source": "",
   "id": "a8593f51e3e5f4c9"
  }
 ],
 "metadata": {
  "kernelspec": {
   "display_name": "Python 3",
   "language": "python",
   "name": "python3"
  },
  "language_info": {
   "codemirror_mode": {
    "name": "ipython",
    "version": 2
   },
   "file_extension": ".py",
   "mimetype": "text/x-python",
   "name": "python",
   "nbconvert_exporter": "python",
   "pygments_lexer": "ipython2",
   "version": "2.7.6"
  }
 },
 "nbformat": 4,
 "nbformat_minor": 5
}
