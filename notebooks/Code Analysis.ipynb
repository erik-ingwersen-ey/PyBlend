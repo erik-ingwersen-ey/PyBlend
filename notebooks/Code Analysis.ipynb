{
 "cells": [
  {
   "cell_type": "code",
   "execution_count": 1,
   "id": "initial_id",
   "metadata": {
    "ExecuteTime": {
     "end_time": "2024-08-26T19:27:23.719193Z",
     "start_time": "2024-08-26T19:27:23.090831Z"
    },
    "execution": {
     "iopub.execute_input": "2024-08-26T19:28:06.793573Z",
     "iopub.status.busy": "2024-08-26T19:28:06.793182Z",
     "iopub.status.idle": "2024-08-26T19:28:06.967283Z",
     "shell.execute_reply": "2024-08-26T19:28:06.966701Z",
     "shell.execute_reply.started": "2024-08-26T19:28:06.793544Z"
    }
   },
   "outputs": [],
   "source": [
    "import random\n",
    "import sys\n",
    "import time\n",
    "from typing import List, Optional\n",
    "\n",
    "from pyblend.algorithm.constructive import Constructive, LinModel, PostModel, PreModel\n",
    "from pyblend.algorithm.heuristic import Heuristic, LAHC, SA\n",
    "from pyblend.algorithm.neighborhood import (Shift, SimpleSwap, SmartShift,\n",
    "                                            SmartSimpleSwap, SmartSwap, SmartSwitch,\n",
    "                                            Swap, Switch)\n",
    "from pyblend.config import Objective, Parameters\n",
    "from pyblend.model.problem import Problem\n",
    "from pyblend.model.solution import Solution\n",
    "from pyblend.utils import handle_input_path, handle_output_path\n",
    "from pyblend.main import feedback_approach, solve, construct, read_args\n"
   ]
  },
  {
   "cell_type": "code",
   "execution_count": 2,
   "id": "d7f015b3bddb64d6",
   "metadata": {
    "ExecuteTime": {
     "end_time": "2024-08-26T19:27:25.142729Z",
     "start_time": "2024-08-26T19:27:25.121528Z"
    },
    "execution": {
     "iopub.execute_input": "2024-08-26T19:28:08.678030Z",
     "iopub.status.busy": "2024-08-26T19:28:08.677266Z",
     "iopub.status.idle": "2024-08-26T19:28:08.682406Z",
     "shell.execute_reply": "2024-08-26T19:28:08.681657Z",
     "shell.execute_reply.started": "2024-08-26T19:28:08.677995Z"
    }
   },
   "outputs": [],
   "source": [
    "start_time = time.time()\n",
    "parms: Parameters = {\n",
    "    \"constructive\": \"postmodel\",\n",
    "    \"algorithm\": \"\",\n",
    "    \"feedback\": 0,\n",
    "    \"seed\": 0,\n",
    "    \"maxiters\": int(1e3),\n",
    "    \"lsize\": int(1e3),\n",
    "    \"alpha\": 0.9,\n",
    "    \"samax\": int(1e3),\n",
    "    \"t0\": 1.0,\n",
    "}"
   ]
  },
  {
   "cell_type": "code",
   "execution_count": 6,
   "id": "f60ad73578652fb3",
   "metadata": {
    "ExecuteTime": {
     "end_time": "2024-08-26T19:27:26.437193Z",
     "start_time": "2024-08-26T19:27:26.421732Z"
    },
    "execution": {
     "iopub.execute_input": "2024-08-26T19:28:31.340778Z",
     "iopub.status.busy": "2024-08-26T19:28:31.340071Z",
     "iopub.status.idle": "2024-08-26T19:28:31.372628Z",
     "shell.execute_reply": "2024-08-26T19:28:31.371595Z",
     "shell.execute_reply.started": "2024-08-26T19:28:31.340743Z"
    }
   },
   "outputs": [],
   "source": [
    "random.seed(parms[\"seed\"])\n",
    "\n",
    "input_path = handle_input_path(\"instance_6.json\")\n",
    "output_path = handle_output_path(\"../out/json/out_6-2.json\")"
   ]
  },
  {
   "cell_type": "code",
   "execution_count": 7,
   "id": "16bc0b48bcf06ab",
   "metadata": {
    "ExecuteTime": {
     "end_time": "2024-08-26T19:27:26.721024Z",
     "start_time": "2024-08-26T19:27:26.706164Z"
    },
    "execution": {
     "iopub.execute_input": "2024-08-26T19:28:32.222423Z",
     "iopub.status.busy": "2024-08-26T19:28:32.221971Z",
     "iopub.status.idle": "2024-08-26T19:28:32.230091Z",
     "shell.execute_reply": "2024-08-26T19:28:32.229120Z",
     "shell.execute_reply.started": "2024-08-26T19:28:32.222393Z"
    }
   },
   "outputs": [
    {
     "data": {
      "text/plain": [
       "'/Users/erikingwersen/Desktop/github/PyBlend/tests/instance_6.json'"
      ]
     },
     "execution_count": 7,
     "metadata": {},
     "output_type": "execute_result"
    }
   ],
   "source": [
    "input_path"
   ]
  },
  {
   "cell_type": "code",
   "execution_count": 8,
   "id": "1bd26c594aec9e2f",
   "metadata": {
    "ExecuteTime": {
     "end_time": "2024-08-26T19:24:43.372572Z",
     "start_time": "2024-08-26T19:24:43.368542Z"
    },
    "execution": {
     "iopub.execute_input": "2024-08-26T19:28:34.572225Z",
     "iopub.status.busy": "2024-08-26T19:28:34.571531Z",
     "iopub.status.idle": "2024-08-26T19:28:34.578333Z",
     "shell.execute_reply": "2024-08-26T19:28:34.577521Z",
     "shell.execute_reply.started": "2024-08-26T19:28:34.572172Z"
    }
   },
   "outputs": [],
   "source": [
    "problem: Problem = Problem(input_path)"
   ]
  },
  {
   "cell_type": "code",
   "execution_count": 9,
   "id": "97b7be80df03fff8",
   "metadata": {
    "ExecuteTime": {
     "end_time": "2024-08-26T19:24:44.222760Z",
     "start_time": "2024-08-26T19:24:44.215465Z"
    },
    "execution": {
     "iopub.execute_input": "2024-08-26T19:28:35.609741Z",
     "iopub.status.busy": "2024-08-26T19:28:35.609050Z",
     "iopub.status.idle": "2024-08-26T19:28:35.614612Z",
     "shell.execute_reply": "2024-08-26T19:28:35.613890Z",
     "shell.execute_reply.started": "2024-08-26T19:28:35.609709Z"
    }
   },
   "outputs": [
    {
     "data": {
      "text/plain": [
       "10"
      ]
     },
     "execution_count": 9,
     "metadata": {},
     "output_type": "execute_result"
    }
   ],
   "source": [
    "len(problem.stockpiles)"
   ]
  },
  {
   "cell_type": "code",
   "execution_count": 10,
   "id": "1802e58f59646b58",
   "metadata": {
    "ExecuteTime": {
     "end_time": "2024-08-20T18:08:14.677369Z",
     "start_time": "2024-08-20T18:08:14.672450Z"
    },
    "execution": {
     "iopub.execute_input": "2024-08-26T19:28:37.447508Z",
     "iopub.status.busy": "2024-08-26T19:28:37.447122Z",
     "iopub.status.idle": "2024-08-26T19:28:37.452473Z",
     "shell.execute_reply": "2024-08-26T19:28:37.451809Z",
     "shell.execute_reply.started": "2024-08-26T19:28:37.447480Z"
    }
   },
   "outputs": [
    {
     "data": {
      "text/plain": [
       "'postmodel'"
      ]
     },
     "execution_count": 10,
     "metadata": {},
     "output_type": "execute_result"
    }
   ],
   "source": [
    "parms[\"constructive\"]"
   ]
  },
  {
   "cell_type": "code",
   "execution_count": 11,
   "id": "2a68e3819a05e0a6",
   "metadata": {
    "ExecuteTime": {
     "end_time": "2024-08-26T19:20:16.921738Z",
     "start_time": "2024-08-26T19:20:16.918915Z"
    },
    "execution": {
     "iopub.execute_input": "2024-08-26T19:28:39.239128Z",
     "iopub.status.busy": "2024-08-26T19:28:39.238551Z",
     "iopub.status.idle": "2024-08-26T19:28:39.242890Z",
     "shell.execute_reply": "2024-08-26T19:28:39.242005Z",
     "shell.execute_reply.started": "2024-08-26T19:28:39.239099Z"
    }
   },
   "outputs": [],
   "source": [
    "solution: Solution = Solution(problem)"
   ]
  },
  {
   "cell_type": "code",
   "execution_count": 12,
   "id": "f2afd9423414671c",
   "metadata": {
    "ExecuteTime": {
     "end_time": "2024-08-26T19:20:19.454725Z",
     "start_time": "2024-08-26T19:20:19.447828Z"
    },
    "execution": {
     "iopub.execute_input": "2024-08-26T19:28:39.599898Z",
     "iopub.status.busy": "2024-08-26T19:28:39.599501Z",
     "iopub.status.idle": "2024-08-26T19:28:39.608510Z",
     "shell.execute_reply": "2024-08-26T19:28:39.607716Z",
     "shell.execute_reply.started": "2024-08-26T19:28:39.599866Z"
    }
   },
   "outputs": [
    {
     "data": {
      "text/plain": [
       "[1000, 1]"
      ]
     },
     "execution_count": 12,
     "metadata": {},
     "output_type": "execute_result"
    }
   ],
   "source": [
    "problem.info[1:]"
   ]
  },
  {
   "cell_type": "code",
   "execution_count": 13,
   "id": "708b0b73a0eef05b",
   "metadata": {
    "ExecuteTime": {
     "end_time": "2024-08-26T19:20:25.237362Z",
     "start_time": "2024-08-26T19:20:25.111985Z"
    },
    "execution": {
     "iopub.execute_input": "2024-08-26T19:28:40.820096Z",
     "iopub.status.busy": "2024-08-26T19:28:40.819708Z",
     "iopub.status.idle": "2024-08-26T19:28:40.953641Z",
     "shell.execute_reply": "2024-08-26T19:28:40.952972Z",
     "shell.execute_reply.started": "2024-08-26T19:28:40.820068Z"
    }
   },
   "outputs": [],
   "source": [
    "model: LinModel = LinModel(problem)"
   ]
  },
  {
   "cell_type": "code",
   "execution_count": 14,
   "id": "a8a0d32e8dcc1da5",
   "metadata": {
    "ExecuteTime": {
     "end_time": "2024-08-26T19:21:11.793670Z",
     "start_time": "2024-08-26T19:21:11.787158Z"
    },
    "execution": {
     "iopub.execute_input": "2024-08-26T19:28:44.249259Z",
     "iopub.status.busy": "2024-08-26T19:28:44.248867Z",
     "iopub.status.idle": "2024-08-26T19:28:44.254680Z",
     "shell.execute_reply": "2024-08-26T19:28:44.253953Z",
     "shell.execute_reply.started": "2024-08-26T19:28:44.249239Z"
    }
   },
   "outputs": [
    {
     "data": {
      "text/plain": [
       "<mip.entities.LinExpr at 0x7fe658cc0fc0>"
      ]
     },
     "execution_count": 14,
     "metadata": {},
     "output_type": "execute_result"
    }
   ],
   "source": [
    "from mip import xsum\n",
    "\n",
    "# Minimize the total scheduling time\n",
    "total_time = xsum(\n",
    "    model._x[i, k] * model._w_x[i, k] for i in range(model._p) for k in\n",
    "    range(model._r)\n",
    ")\n",
    "total_time"
   ]
  },
  {
   "cell_type": "code",
   "execution_count": 18,
   "id": "52872fd8-e09e-4e7a-8378-f856dae1d8cf",
   "metadata": {
    "execution": {
     "iopub.execute_input": "2024-08-26T19:29:23.354036Z",
     "iopub.status.busy": "2024-08-26T19:29:23.353720Z",
     "iopub.status.idle": "2024-08-26T19:29:23.357397Z",
     "shell.execute_reply": "2024-08-26T19:29:23.356662Z",
     "shell.execute_reply.started": "2024-08-26T19:29:23.354012Z"
    }
   },
   "outputs": [],
   "source": [
    "total_time.x"
   ]
  },
  {
   "cell_type": "code",
   "execution_count": 15,
   "id": "70c0f933-c7c7-4646-a3d7-85a85dc2e3b7",
   "metadata": {
    "execution": {
     "iopub.execute_input": "2024-08-26T19:28:54.421664Z",
     "iopub.status.busy": "2024-08-26T19:28:54.421262Z",
     "iopub.status.idle": "2024-08-26T19:28:54.428794Z",
     "shell.execute_reply": "2024-08-26T19:28:54.427899Z",
     "shell.execute_reply.started": "2024-08-26T19:28:54.421634Z"
    }
   },
   "outputs": [
    {
     "data": {
      "text/plain": [
       "{<mip.entities.Var at 0x7fe668903a30>: 1,\n",
       " <mip.entities.Var at 0x7fe6689039d0>: 1,\n",
       " <mip.entities.Var at 0x7fe668903820>: 1,\n",
       " <mip.entities.Var at 0x7fe668903790>: 1,\n",
       " <mip.entities.Var at 0x7fe668903b20>: 1,\n",
       " <mip.entities.Var at 0x7fe668903850>: 1,\n",
       " <mip.entities.Var at 0x7fe668903be0>: 1,\n",
       " <mip.entities.Var at 0x7fe668903c10>: 1,\n",
       " <mip.entities.Var at 0x7fe668903c40>: 1,\n",
       " <mip.entities.Var at 0x7fe668903c70>: 1}"
      ]
     },
     "execution_count": 15,
     "metadata": {},
     "output_type": "execute_result"
    }
   ],
   "source": [
    "total_time.expr"
   ]
  },
  {
   "cell_type": "code",
   "execution_count": 19,
   "id": "78a7cc4b47dd7d6e",
   "metadata": {
    "ExecuteTime": {
     "end_time": "2024-08-26T19:21:21.253444Z",
     "start_time": "2024-08-26T19:21:21.238229Z"
    },
    "execution": {
     "iopub.execute_input": "2024-08-26T19:29:26.613821Z",
     "iopub.status.busy": "2024-08-26T19:29:26.612989Z",
     "iopub.status.idle": "2024-08-26T19:29:26.646441Z",
     "shell.execute_reply": "2024-08-26T19:29:26.645604Z",
     "shell.execute_reply.started": "2024-08-26T19:29:26.613787Z"
    }
   },
   "outputs": [
    {
     "name": "stdout",
     "output_type": "stream",
     "text": [
      "Welcome to the CBC MILP Solver \n",
      "Version: Trunk\n",
      "Build Date: Oct 28 2021 \n",
      "\n",
      "Starting solution of the Linear programming problem using Primal Simplex\n",
      "\n"
     ]
    }
   ],
   "source": [
    "constructive: Constructive = construct(problem, solution, model, parms)"
   ]
  },
  {
   "cell_type": "code",
   "execution_count": 20,
   "id": "b31d1c0f0d50d9eb",
   "metadata": {
    "ExecuteTime": {
     "end_time": "2024-08-26T19:21:22.303384Z",
     "start_time": "2024-08-26T19:21:22.298773Z"
    },
    "execution": {
     "iopub.execute_input": "2024-08-26T19:29:28.894592Z",
     "iopub.status.busy": "2024-08-26T19:29:28.894232Z",
     "iopub.status.idle": "2024-08-26T19:29:28.899936Z",
     "shell.execute_reply": "2024-08-26T19:29:28.899185Z",
     "shell.execute_reply.started": "2024-08-26T19:29:28.894566Z"
    }
   },
   "outputs": [
    {
     "data": {
      "text/plain": [
       "(0.06, 91.04)"
      ]
     },
     "execution_count": 20,
     "metadata": {},
     "output_type": "execute_result"
    }
   ],
   "source": [
    "constructive.solution.work_time(1)"
   ]
  },
  {
   "cell_type": "code",
   "execution_count": 21,
   "id": "de1661c38736c2e9",
   "metadata": {
    "ExecuteTime": {
     "end_time": "2024-08-20T18:42:10.238111Z",
     "start_time": "2024-08-20T18:42:10.233480Z"
    },
    "execution": {
     "iopub.execute_input": "2024-08-26T19:29:33.831348Z",
     "iopub.status.busy": "2024-08-26T19:29:33.830931Z",
     "iopub.status.idle": "2024-08-26T19:29:33.837870Z",
     "shell.execute_reply": "2024-08-26T19:29:33.836722Z",
     "shell.execute_reply.started": "2024-08-26T19:29:33.831320Z"
    }
   },
   "outputs": [
    {
     "data": {
      "text/plain": [
       "76.92307692307692"
      ]
     },
     "execution_count": 21,
     "metadata": {},
     "output_type": "execute_result"
    }
   ],
   "source": [
    "constructive._problem.outputs[0].weight / sum([\n",
    "                eng.speed_reclaim for eng in constructive.problem.engines\n",
    "            ])"
   ]
  },
  {
   "cell_type": "code",
   "execution_count": 20,
   "id": "ee024230ac3e2753",
   "metadata": {
    "ExecuteTime": {
     "end_time": "2024-08-26T19:24:04.790312Z",
     "start_time": "2024-08-26T19:24:04.783868Z"
    }
   },
   "outputs": [
    {
     "data": {
      "text/plain": [
       "[id: 1\n",
       " position: 0\n",
       " yard: 1\n",
       " rails: [1]\n",
       " capacity: 100000\n",
       " weightIni: 60000\n",
       " qualityIni: [parameter: Fe\n",
       " value: 10.3\n",
       " , parameter: SiO2\n",
       " value: 2.3\n",
       " , parameter: Al2O3\n",
       " value: 4.5\n",
       " , parameter: P\n",
       " value: 0.05\n",
       " , parameter: +31.5\n",
       " value: 4\n",
       " , parameter: -6.3\n",
       " value: 40\n",
       " ],\n",
       " id: 2\n",
       " position: 1\n",
       " yard: 1\n",
       " rails: [1]\n",
       " capacity: 50000\n",
       " weightIni: 45000\n",
       " qualityIni: [parameter: Fe\n",
       " value: 76.3\n",
       " , parameter: SiO2\n",
       " value: 5.6\n",
       " , parameter: Al2O3\n",
       " value: 4.8\n",
       " , parameter: P\n",
       " value: 0.05\n",
       " , parameter: +31.5\n",
       " value: 8\n",
       " , parameter: -6.3\n",
       " value: 20\n",
       " ],\n",
       " id: 3\n",
       " position: 2\n",
       " yard: 2\n",
       " rails: [1]\n",
       " capacity: 100000\n",
       " weightIni: 100000\n",
       " qualityIni: [parameter: Fe\n",
       " value: 87.3\n",
       " , parameter: SiO2\n",
       " value: 3.7\n",
       " , parameter: Al2O3\n",
       " value: 5\n",
       " , parameter: P\n",
       " value: 0.05\n",
       " , parameter: +31.5\n",
       " value: 8.5\n",
       " , parameter: -6.3\n",
       " value: 15\n",
       " ],\n",
       " id: 4\n",
       " position: 3\n",
       " yard: 2\n",
       " rails: [1]\n",
       " capacity: 200000\n",
       " weightIni: 50000\n",
       " qualityIni: [parameter: Fe\n",
       " value: 56.3\n",
       " , parameter: SiO2\n",
       " value: 3.8\n",
       " , parameter: Al2O3\n",
       " value: 5.3\n",
       " , parameter: P\n",
       " value: 0.09\n",
       " , parameter: +31.5\n",
       " value: 12\n",
       " , parameter: -6.3\n",
       " value: 30\n",
       " ],\n",
       " id: 5\n",
       " position: 4\n",
       " yard: 3\n",
       " rails: [1]\n",
       " capacity: 120000\n",
       " weightIni: 60000\n",
       " qualityIni: [parameter: Fe\n",
       " value: 70.5\n",
       " , parameter: SiO2\n",
       " value: 4.0\n",
       " , parameter: Al2O3\n",
       " value: 5.1\n",
       " , parameter: P\n",
       " value: 0.07\n",
       " , parameter: +31.5\n",
       " value: 10\n",
       " , parameter: -6.3\n",
       " value: 25\n",
       " ],\n",
       " id: 6\n",
       " position: 5\n",
       " yard: 3\n",
       " rails: [1]\n",
       " capacity: 150000\n",
       " weightIni: 75000\n",
       " qualityIni: [parameter: Fe\n",
       " value: 65.4\n",
       " , parameter: SiO2\n",
       " value: 4.5\n",
       " , parameter: Al2O3\n",
       " value: 4.9\n",
       " , parameter: P\n",
       " value: 0.06\n",
       " , parameter: +31.5\n",
       " value: 9\n",
       " , parameter: -6.3\n",
       " value: 28\n",
       " ],\n",
       " id: 7\n",
       " position: 6\n",
       " yard: 4\n",
       " rails: [1]\n",
       " capacity: 80000\n",
       " weightIni: 40000\n",
       " qualityIni: [parameter: Fe\n",
       " value: 75.0\n",
       " , parameter: SiO2\n",
       " value: 4.3\n",
       " , parameter: Al2O3\n",
       " value: 5.0\n",
       " , parameter: P\n",
       " value: 0.08\n",
       " , parameter: +31.5\n",
       " value: 7\n",
       " , parameter: -6.3\n",
       " value: 20\n",
       " ],\n",
       " id: 8\n",
       " position: 7\n",
       " yard: 4\n",
       " rails: [1]\n",
       " capacity: 90000\n",
       " weightIni: 45000\n",
       " qualityIni: [parameter: Fe\n",
       " value: 60.3\n",
       " , parameter: SiO2\n",
       " value: 5.5\n",
       " , parameter: Al2O3\n",
       " value: 4.7\n",
       " , parameter: P\n",
       " value: 0.06\n",
       " , parameter: +31.5\n",
       " value: 11\n",
       " , parameter: -6.3\n",
       " value: 22\n",
       " ],\n",
       " id: 9\n",
       " position: 8\n",
       " yard: 5\n",
       " rails: [1]\n",
       " capacity: 100000\n",
       " weightIni: 50000\n",
       " qualityIni: [parameter: Fe\n",
       " value: 68.3\n",
       " , parameter: SiO2\n",
       " value: 3.2\n",
       " , parameter: Al2O3\n",
       " value: 4.8\n",
       " , parameter: P\n",
       " value: 0.07\n",
       " , parameter: +31.5\n",
       " value: 9\n",
       " , parameter: -6.3\n",
       " value: 21\n",
       " ],\n",
       " id: 10\n",
       " position: 9\n",
       " yard: 5\n",
       " rails: [1]\n",
       " capacity: 110000\n",
       " weightIni: 55000\n",
       " qualityIni: [parameter: Fe\n",
       " value: 72.1\n",
       " , parameter: SiO2\n",
       " value: 3.5\n",
       " , parameter: Al2O3\n",
       " value: 5.2\n",
       " , parameter: P\n",
       " value: 0.09\n",
       " , parameter: +31.5\n",
       " value: 8\n",
       " , parameter: -6.3\n",
       " value: 19\n",
       " ]]"
      ]
     },
     "execution_count": 20,
     "metadata": {},
     "output_type": "execute_result"
    }
   ],
   "source": [
    "_p: int = len(problem.stockpiles)\n",
    "_t: int = len(problem.outputs[0].quality)\n",
    "_r: int = len(problem.outputs)\n",
    "_e: int = len(problem.inputs)\n",
    "_p\n",
    "\n",
    "problem.stockpiles"
   ]
  },
  {
   "cell_type": "code",
   "execution_count": 12,
   "id": "d9d207d114cb0161",
   "metadata": {
    "ExecuteTime": {
     "end_time": "2024-08-26T19:21:53.867049Z",
     "start_time": "2024-08-26T19:21:53.861638Z"
    }
   },
   "outputs": [
    {
     "data": {
      "text/plain": [
       "<mip.entities.LinExpr at 0x7f7d58870700>"
      ]
     },
     "execution_count": 12,
     "metadata": {},
     "output_type": "execute_result"
    }
   ],
   "source": [
    "xsum(\n",
    "    model._x[i, k] * model._w_x[i, k] for i in range(model._p) for k in\n",
    "    range(model._r)\n",
    ")"
   ]
  },
  {
   "cell_type": "code",
   "execution_count": 22,
   "id": "4863636adeccd5ab",
   "metadata": {
    "execution": {
     "iopub.execute_input": "2024-08-26T19:29:44.433283Z",
     "iopub.status.busy": "2024-08-26T19:29:44.432855Z",
     "iopub.status.idle": "2024-08-26T19:29:44.441445Z",
     "shell.execute_reply": "2024-08-26T19:29:44.440466Z",
     "shell.execute_reply.started": "2024-08-26T19:29:44.433247Z"
    }
   },
   "outputs": [],
   "source": [
    "solver: Optional[Heuristic] = None\n",
    "if parms[\"algorithm\"] != \"\":\n",
    "    solver = solve(problem, solution, constructive, parms)\n",
    "    solution = solver.best_solution\n",
    "\n",
    "if parms[\"feedback\"] > 0:\n",
    "    feedback_approach(solution, model, solver, constructive, parms)\n",
    "\n",
    "solution.set_deliveries()\n",
    "# solution.write(output_path, round(time.time()-start_time, 2))"
   ]
  },
  {
   "cell_type": "code",
   "execution_count": 24,
   "id": "3d1e6ba2-1783-4bb7-90c3-94d3dec1bb5a",
   "metadata": {
    "execution": {
     "iopub.execute_input": "2024-08-26T19:30:06.235628Z",
     "iopub.status.busy": "2024-08-26T19:30:06.235186Z",
     "iopub.status.idle": "2024-08-26T19:30:06.241893Z",
     "shell.execute_reply": "2024-08-26T19:30:06.240939Z",
     "shell.execute_reply.started": "2024-08-26T19:30:06.235595Z"
    }
   },
   "outputs": [
    {
     "data": {
      "text/plain": [
       "499.99999999999994"
      ]
     },
     "execution_count": 24,
     "metadata": {},
     "output_type": "execute_result"
    }
   ],
   "source": [
    "total_time.x / 1_000"
   ]
  },
  {
   "cell_type": "code",
   "execution_count": 25,
   "id": "5a73cc96-ba38-4379-8995-cba989c36338",
   "metadata": {
    "execution": {
     "iopub.execute_input": "2024-08-26T19:31:12.852701Z",
     "iopub.status.busy": "2024-08-26T19:31:12.851993Z",
     "iopub.status.idle": "2024-08-26T19:31:12.858275Z",
     "shell.execute_reply": "2024-08-26T19:31:12.857431Z",
     "shell.execute_reply.started": "2024-08-26T19:31:12.852668Z"
    }
   },
   "outputs": [
    {
     "data": {
      "text/plain": [
       "'../out/json/out_6-2.json'"
      ]
     },
     "execution_count": 25,
     "metadata": {},
     "output_type": "execute_result"
    }
   ],
   "source": [
    "output_path"
   ]
  },
  {
   "cell_type": "code",
   "execution_count": 26,
   "id": "d6aa3b21-2c5a-40f6-9619-30a216c717f0",
   "metadata": {
    "execution": {
     "iopub.execute_input": "2024-08-26T19:31:18.529445Z",
     "iopub.status.busy": "2024-08-26T19:31:18.528580Z",
     "iopub.status.idle": "2024-08-26T19:31:18.535958Z",
     "shell.execute_reply": "2024-08-26T19:31:18.534864Z",
     "shell.execute_reply.started": "2024-08-26T19:31:18.529413Z"
    }
   },
   "outputs": [],
   "source": [
    "solution.write(output_path, round(time.time()-start_time, 2))"
   ]
  },
  {
   "cell_type": "code",
   "execution_count": 28,
   "id": "f0f5bb7c-f4b3-4aca-aa02-04ea1242dea9",
   "metadata": {
    "execution": {
     "iopub.execute_input": "2024-08-26T19:32:25.411835Z",
     "iopub.status.busy": "2024-08-26T19:32:25.411143Z",
     "iopub.status.idle": "2024-08-26T19:32:25.416892Z",
     "shell.execute_reply": "2024-08-26T19:32:25.416127Z",
     "shell.execute_reply.started": "2024-08-26T19:32:25.411808Z"
    }
   },
   "outputs": [
    {
     "data": {
      "text/plain": [
       "499999.99999999994"
      ]
     },
     "execution_count": 28,
     "metadata": {},
     "output_type": "execute_result"
    }
   ],
   "source": [
    "total_time.x"
   ]
  },
  {
   "cell_type": "code",
   "execution_count": 30,
   "id": "ba8eb13c-cf74-4bde-a230-c73ad655f482",
   "metadata": {
    "execution": {
     "iopub.execute_input": "2024-08-26T19:34:21.503370Z",
     "iopub.status.busy": "2024-08-26T19:34:21.503050Z",
     "iopub.status.idle": "2024-08-26T19:34:21.509152Z",
     "shell.execute_reply": "2024-08-26T19:34:21.508382Z",
     "shell.execute_reply.started": "2024-08-26T19:34:21.503344Z"
    }
   },
   "outputs": [
    {
     "data": {
      "text/plain": [
       "[1, 1, 1, 1, 1, 1, 1, 1, 1, 1]"
      ]
     },
     "execution_count": 30,
     "metadata": {},
     "output_type": "execute_result"
    }
   ],
   "source": [
    "[model._w_x[i, k] for i in range(model._p) for k in range(model._r)]"
   ]
  },
  {
   "cell_type": "code",
   "execution_count": 32,
   "id": "a9f882c4-03bd-4250-becd-f1cca8aee7c1",
   "metadata": {
    "execution": {
     "iopub.execute_input": "2024-08-26T19:34:33.505629Z",
     "iopub.status.busy": "2024-08-26T19:34:33.505290Z",
     "iopub.status.idle": "2024-08-26T19:34:33.511326Z",
     "shell.execute_reply": "2024-08-26T19:34:33.510550Z",
     "shell.execute_reply.started": "2024-08-26T19:34:33.505601Z"
    }
   },
   "outputs": [
    {
     "data": {
      "text/plain": [
       "[60000.00000000001,\n",
       " 45000.0,\n",
       " 78333.3333333327,\n",
       " 46666.666666667275,\n",
       " 59999.99999999999,\n",
       " 75000.0,\n",
       " 40000.0,\n",
       " 45000.0,\n",
       " 50000.0,\n",
       " 0.0]"
      ]
     },
     "execution_count": 32,
     "metadata": {},
     "output_type": "execute_result"
    }
   ],
   "source": [
    "[model._x[i, k].x for i in range(model._p) for k in range(model._r)]"
   ]
  },
  {
   "cell_type": "code",
   "execution_count": 33,
   "id": "9200d869-592e-4366-bd30-bc9bbf9770b3",
   "metadata": {
    "execution": {
     "iopub.execute_input": "2024-08-26T19:35:11.827915Z",
     "iopub.status.busy": "2024-08-26T19:35:11.827202Z",
     "iopub.status.idle": "2024-08-26T19:35:11.834175Z",
     "shell.execute_reply": "2024-08-26T19:35:11.833353Z",
     "shell.execute_reply.started": "2024-08-26T19:35:11.827883Z"
    },
    "scrolled": true
   },
   "outputs": [
    {
     "data": {
      "text/plain": [
       "0.0"
      ]
     },
     "execution_count": 33,
     "metadata": {},
     "output_type": "execute_result"
    }
   ],
   "source": [
    "i_scheduling = xsum(\n",
    "    model._w_y[h, i] * model._y[h, i]\n",
    "    for h in range(model._e)\n",
    "    for i in range(model._p)\n",
    ")\n",
    "i_scheduling.x"
   ]
  },
  {
   "cell_type": "code",
   "execution_count": 51,
   "id": "0bc8ec96-0edb-419d-9279-30707eed9ed2",
   "metadata": {
    "execution": {
     "iopub.execute_input": "2024-08-26T19:48:17.389597Z",
     "iopub.status.busy": "2024-08-26T19:48:17.389033Z",
     "iopub.status.idle": "2024-08-26T19:48:17.395581Z",
     "shell.execute_reply": "2024-08-26T19:48:17.394832Z",
     "shell.execute_reply.started": "2024-08-26T19:48:17.389570Z"
    }
   },
   "outputs": [
    {
     "data": {
      "text/plain": [
       "{'id: 1': [60000.00000000001,\n",
       "  45000.0,\n",
       "  78333.3333333327,\n",
       "  46666.666666667275,\n",
       "  59999.99999999999,\n",
       "  75000.0,\n",
       "  40000.0,\n",
       "  45000.0,\n",
       "  50000.0,\n",
       "  0.0]}"
      ]
     },
     "execution_count": 51,
     "metadata": {},
     "output_type": "execute_result"
    }
   ],
   "source": [
    "{\n",
    "    f\"id: {model._outputs[k].id}\": [model._x[i, k].x for i in range(model._p)]\n",
    "    for k in range(model._r)\n",
    "}"
   ]
  },
  {
   "cell_type": "code",
   "execution_count": 68,
   "id": "23cd172f-a8a2-4480-a4ed-c22fd82c0283",
   "metadata": {
    "execution": {
     "iopub.execute_input": "2024-08-26T20:07:20.432052Z",
     "iopub.status.busy": "2024-08-26T20:07:20.431464Z",
     "iopub.status.idle": "2024-08-26T20:07:20.437193Z",
     "shell.execute_reply": "2024-08-26T20:07:20.436318Z",
     "shell.execute_reply.started": "2024-08-26T20:07:20.432023Z"
    }
   },
   "outputs": [
    {
     "data": {
      "text/plain": [
       "[id: 1\n",
       " speedStack: 0.0\n",
       " speedReclaim: 3900.0\n",
       " posIni: 8\n",
       " rail: 1\n",
       " yards: [1, 2, 3, 4, 5],\n",
       " id: 2\n",
       " speedStack: 0.0\n",
       " speedReclaim: 2600.0\n",
       " posIni: 7\n",
       " rail: 1\n",
       " yards: [1, 2, 3, 4, 5]]"
      ]
     },
     "execution_count": 68,
     "metadata": {},
     "output_type": "execute_result"
    }
   ],
   "source": [
    "problem.engines\n"
   ]
  },
  {
   "cell_type": "code",
   "execution_count": 69,
   "id": "d19e5aae-f603-400f-ac39-e303d07ba407",
   "metadata": {
    "execution": {
     "iopub.execute_input": "2024-08-26T20:09:26.837892Z",
     "iopub.status.busy": "2024-08-26T20:09:26.837556Z",
     "iopub.status.idle": "2024-08-26T20:09:26.845120Z",
     "shell.execute_reply": "2024-08-26T20:09:26.844087Z",
     "shell.execute_reply.started": "2024-08-26T20:09:26.837866Z"
    }
   },
   "outputs": [
    {
     "data": {
      "text/plain": [
       "1"
      ]
     },
     "execution_count": 69,
     "metadata": {},
     "output_type": "execute_result"
    }
   ],
   "source": [
    "model._e"
   ]
  },
  {
   "cell_type": "code",
   "execution_count": 62,
   "id": "20b670d8-ec97-45ad-973f-14d5a09249a2",
   "metadata": {
    "execution": {
     "iopub.execute_input": "2024-08-26T20:01:37.263879Z",
     "iopub.status.busy": "2024-08-26T20:01:37.263445Z",
     "iopub.status.idle": "2024-08-26T20:01:37.270581Z",
     "shell.execute_reply": "2024-08-26T20:01:37.269742Z",
     "shell.execute_reply.started": "2024-08-26T20:01:37.263847Z"
    },
    "scrolled": true
   },
   "outputs": [
    {
     "data": {
      "text/plain": [
       "[[(1, 'r'), (0, 'r'), (6, 'r'), (5, 'r'), (8, 'r')],\n",
       " [(2, 'r'), (3, 'r'), (4, 'r'), (7, 'r')]]"
      ]
     },
     "execution_count": 62,
     "metadata": {},
     "output_type": "execute_result"
    }
   ],
   "source": [
    "solution._routes"
   ]
  },
  {
   "cell_type": "code",
   "execution_count": 66,
   "id": "a6295d83-accb-40ad-8615-44a63ae0ab5c",
   "metadata": {
    "execution": {
     "iopub.execute_input": "2024-08-26T20:03:54.691865Z",
     "iopub.status.busy": "2024-08-26T20:03:54.691396Z",
     "iopub.status.idle": "2024-08-26T20:03:54.698747Z",
     "shell.execute_reply": "2024-08-26T20:03:54.697865Z",
     "shell.execute_reply.started": "2024-08-26T20:03:54.691830Z"
    }
   },
   "outputs": [
    {
     "data": {
      "text/plain": [
       "91.04"
      ]
     },
     "execution_count": 66,
     "metadata": {},
     "output_type": "execute_result"
    }
   ],
   "source": [
    "max([x['start_time'] + x['duration'] for x in solution._reclaims])"
   ]
  },
  {
   "cell_type": "code",
   "execution_count": 60,
   "id": "0e26e56e-4259-4fbf-8d31-a89336d6024a",
   "metadata": {
    "execution": {
     "iopub.execute_input": "2024-08-26T20:00:08.235389Z",
     "iopub.status.busy": "2024-08-26T20:00:08.234877Z",
     "iopub.status.idle": "2024-08-26T20:00:08.241497Z",
     "shell.execute_reply": "2024-08-26T20:00:08.240395Z",
     "shell.execute_reply.started": "2024-08-26T20:00:08.235343Z"
    }
   },
   "outputs": [
    {
     "data": {
      "text/plain": [
       "[id: 1\n",
       " speedStack: 0.0\n",
       " speedReclaim: 3900.0\n",
       " posIni: 8\n",
       " rail: 1\n",
       " yards: [1, 2, 3, 4, 5],\n",
       " id: 2\n",
       " speedStack: 0.0\n",
       " speedReclaim: 2600.0\n",
       " posIni: 7\n",
       " rail: 1\n",
       " yards: [1, 2, 3, 4, 5]]"
      ]
     },
     "execution_count": 60,
     "metadata": {},
     "output_type": "execute_result"
    }
   ],
   "source": [
    "solution._problem.engines"
   ]
  },
  {
   "cell_type": "code",
   "execution_count": 61,
   "id": "ddee926f-0f19-4735-87cc-e57c7742d9ae",
   "metadata": {
    "execution": {
     "iopub.execute_input": "2024-08-26T20:01:10.382569Z",
     "iopub.status.busy": "2024-08-26T20:01:10.382130Z",
     "iopub.status.idle": "2024-08-26T20:01:10.390116Z",
     "shell.execute_reply": "2024-08-26T20:01:10.388968Z",
     "shell.execute_reply.started": "2024-08-26T20:01:10.382536Z"
    }
   },
   "outputs": [
    {
     "data": {
      "text/plain": [
       "pyblend.model.solution.Solution"
      ]
     },
     "execution_count": 61,
     "metadata": {},
     "output_type": "execute_result"
    }
   ],
   "source": [
    "\n",
    "type(solution)"
   ]
  },
  {
   "cell_type": "code",
   "execution_count": 49,
   "id": "264dad10-cabb-438a-a38c-e71bba958ad3",
   "metadata": {
    "execution": {
     "iopub.execute_input": "2024-08-26T19:47:31.044586Z",
     "iopub.status.busy": "2024-08-26T19:47:31.043786Z",
     "iopub.status.idle": "2024-08-26T19:47:31.051350Z",
     "shell.execute_reply": "2024-08-26T19:47:31.050475Z",
     "shell.execute_reply.started": "2024-08-26T19:47:31.044557Z"
    }
   },
   "outputs": [
    {
     "data": {
      "text/plain": [
       "[1, 2, 3, 4, 5, 6, 7, 8, 9, 10]"
      ]
     },
     "execution_count": 49,
     "metadata": {},
     "output_type": "execute_result"
    }
   ],
   "source": [
    "for engine in solution._problem.engines:\n",
    "    routes.append(solution.set_route(start_time, engine))"
   ]
  },
  {
   "cell_type": "code",
   "execution_count": 59,
   "id": "c551f2c4-8bed-4ee0-b60e-be8f91a4d2da",
   "metadata": {
    "execution": {
     "iopub.execute_input": "2024-08-26T19:56:16.273343Z",
     "iopub.status.busy": "2024-08-26T19:56:16.272718Z",
     "iopub.status.idle": "2024-08-26T19:56:16.280321Z",
     "shell.execute_reply": "2024-08-26T19:56:16.279197Z",
     "shell.execute_reply.started": "2024-08-26T19:56:16.273266Z"
    }
   },
   "outputs": [
    {
     "data": {
      "text/plain": [
       "{'id: 1': [60000.00000000001,\n",
       "  45000.0,\n",
       "  78333.3333333327,\n",
       "  46666.666666667275,\n",
       "  59999.99999999999,\n",
       "  75000.0,\n",
       "  40000.0,\n",
       "  45000.0,\n",
       "  50000.0,\n",
       "  0.0]}"
      ]
     },
     "execution_count": 59,
     "metadata": {},
     "output_type": "execute_result"
    }
   ],
   "source": [
    "{\n",
    "    f\"id: {model._outputs[k].id}\": [model._x[i, k].x for i in range(model._p)]\n",
    "    for k in range(model._r)\n",
    "}"
   ]
  },
  {
   "cell_type": "code",
   "execution_count": 58,
   "id": "b3dd0c9e-3fff-49fd-b86d-74e552b1d3ab",
   "metadata": {
    "execution": {
     "iopub.execute_input": "2024-08-26T19:55:11.724474Z",
     "iopub.status.busy": "2024-08-26T19:55:11.724113Z",
     "iopub.status.idle": "2024-08-26T19:55:11.730001Z",
     "shell.execute_reply": "2024-08-26T19:55:11.729255Z",
     "shell.execute_reply.started": "2024-08-26T19:55:11.724443Z"
    }
   },
   "outputs": [
    {
     "data": {
      "text/plain": [
       "{'id: 1': [60000,\n",
       "  45000,\n",
       "  100000,\n",
       "  50000,\n",
       "  60000,\n",
       "  75000,\n",
       "  40000,\n",
       "  45000,\n",
       "  50000,\n",
       "  55000]}"
      ]
     },
     "execution_count": 58,
     "metadata": {},
     "output_type": "execute_result"
    }
   ],
   "source": [
    "{\n",
    "    f\"id: {k.id}\": [i.weight_ini for i in problem.stockpiles]\n",
    "    for k in problem.outputs\n",
    "}"
   ]
  },
  {
   "cell_type": "code",
   "execution_count": 53,
   "id": "3174b294-5432-4892-84db-0f2e0d6ae50f",
   "metadata": {
    "execution": {
     "iopub.execute_input": "2024-08-26T19:50:48.813533Z",
     "iopub.status.busy": "2024-08-26T19:50:48.813073Z",
     "iopub.status.idle": "2024-08-26T19:50:48.821195Z",
     "shell.execute_reply": "2024-08-26T19:50:48.820134Z",
     "shell.execute_reply.started": "2024-08-26T19:50:48.813506Z"
    }
   },
   "outputs": [
    {
     "data": {
      "text/plain": [
       "[{'weight': 45000.0,\n",
       "  'stockpile': 2,\n",
       "  'engine': 1,\n",
       "  'start_time': 0.06,\n",
       "  'duration': 11.54,\n",
       "  'output': 1},\n",
       " {'weight': 60000.0,\n",
       "  'stockpile': 1,\n",
       "  'engine': 1,\n",
       "  'start_time': 12.81,\n",
       "  'duration': 15.38,\n",
       "  'output': 1},\n",
       " {'weight': 40000.0,\n",
       "  'stockpile': 7,\n",
       "  'engine': 1,\n",
       "  'start_time': 29.09,\n",
       "  'duration': 10.26,\n",
       "  'output': 1},\n",
       " {'weight': 75000.0,\n",
       "  'stockpile': 6,\n",
       "  'engine': 1,\n",
       "  'start_time': 40.15,\n",
       "  'duration': 19.23,\n",
       "  'output': 1},\n",
       " {'weight': 50000.0,\n",
       "  'stockpile': 9,\n",
       "  'engine': 1,\n",
       "  'start_time': 59.88,\n",
       "  'duration': 12.82,\n",
       "  'output': 1},\n",
       " {'weight': 78333.3,\n",
       "  'stockpile': 3,\n",
       "  'engine': 2,\n",
       "  'start_time': 0.06,\n",
       "  'duration': 30.13,\n",
       "  'output': 1},\n",
       " {'weight': 46666.7,\n",
       "  'stockpile': 4,\n",
       "  'engine': 2,\n",
       "  'start_time': 31.4,\n",
       "  'duration': 17.95,\n",
       "  'output': 1},\n",
       " {'weight': 60000.0,\n",
       "  'stockpile': 5,\n",
       "  'engine': 2,\n",
       "  'start_time': 50.15,\n",
       "  'duration': 23.08,\n",
       "  'output': 1},\n",
       " {'weight': 45000.0,\n",
       "  'stockpile': 8,\n",
       "  'engine': 2,\n",
       "  'start_time': 73.73,\n",
       "  'duration': 17.31,\n",
       "  'output': 1}]"
      ]
     },
     "execution_count": 53,
     "metadata": {},
     "output_type": "execute_result"
    }
   ],
   "source": [
    "solution._reclaims"
   ]
  },
  {
   "cell_type": "code",
   "execution_count": 41,
   "id": "50a330ef-d559-4734-baa6-b7776331d389",
   "metadata": {
    "execution": {
     "iopub.execute_input": "2024-08-26T19:38:24.355676Z",
     "iopub.status.busy": "2024-08-26T19:38:24.355293Z",
     "iopub.status.idle": "2024-08-26T19:38:24.361718Z",
     "shell.execute_reply": "2024-08-26T19:38:24.360827Z",
     "shell.execute_reply.started": "2024-08-26T19:38:24.355650Z"
    }
   },
   "outputs": [
    {
     "data": {
      "text/plain": [
       "[[0.06, 1.21, 0.16, 0.08, 0.5, 0.6, 0.7, 0.8, 0.9, 1.0],\n",
       " [1.21, 0.06, 0.08, 0.16, 0.7, 0.8, 0.9, 1.0, 0.5, 0.6],\n",
       " [0.16, 0.08, 0.06, 1.21, 0.8, 0.7, 0.6, 0.5, 0.4, 0.3],\n",
       " [0.08, 0.16, 1.21, 0.06, 0.9, 1.0, 0.5, 0.6, 0.7, 0.8],\n",
       " [0.5, 0.7, 0.8, 0.9, 0.06, 1.21, 0.16, 0.08, 0.5, 0.6],\n",
       " [0.6, 0.8, 0.7, 1.0, 1.21, 0.06, 0.08, 0.16, 0.7, 0.8],\n",
       " [0.7, 0.9, 0.6, 0.5, 0.16, 0.08, 0.06, 1.21, 0.16, 0.08],\n",
       " [0.8, 1.0, 0.5, 0.6, 0.08, 0.16, 1.21, 0.06, 0.8, 0.9],\n",
       " [0.9, 0.5, 0.4, 0.7, 0.5, 0.7, 0.16, 0.8, 0.06, 1.21],\n",
       " [1.0, 0.6, 0.3, 0.8, 0.6, 0.8, 0.08, 0.9, 1.21, 0.06]]"
      ]
     },
     "execution_count": 41,
     "metadata": {},
     "output_type": "execute_result"
    }
   ],
   "source": [
    "problem._time_travel"
   ]
  },
  {
   "cell_type": "code",
   "execution_count": 42,
   "id": "cc36f274-257e-4dad-85b9-79e8d0d56620",
   "metadata": {
    "execution": {
     "iopub.execute_input": "2024-08-26T19:39:10.350605Z",
     "iopub.status.busy": "2024-08-26T19:39:10.350078Z",
     "iopub.status.idle": "2024-08-26T19:39:10.360180Z",
     "shell.execute_reply": "2024-08-26T19:39:10.358809Z",
     "shell.execute_reply.started": "2024-08-26T19:39:10.350563Z"
    }
   },
   "outputs": [
    {
     "data": {
      "text/plain": [
       "[id: 1\n",
       " destination: 1\n",
       " weight: 500000\n",
       " quality: [parameter: Fe\n",
       " minimum: 60\n",
       " maximum: 100\n",
       " goal: 65\n",
       " importance: 10\n",
       " , parameter: SiO2\n",
       " minimum: 2.8\n",
       " maximum: 5.8\n",
       " goal: 5.8\n",
       " importance: 1000\n",
       " , parameter: Al2O3\n",
       " minimum: 2.5\n",
       " maximum: 4.9\n",
       " goal: 4.9\n",
       " importance: 100\n",
       " , parameter: P\n",
       " minimum: 0.05\n",
       " maximum: 0.07\n",
       " goal: 0.07\n",
       " importance: 100\n",
       " , parameter: +31.5\n",
       " minimum: 8\n",
       " maximum: 10\n",
       " goal: 10\n",
       " importance: 100\n",
       " , parameter: -6.3\n",
       " minimum: 20\n",
       " maximum: 25\n",
       " goal: 25\n",
       " importance: 100\n",
       " ]\n",
       " time: 600]"
      ]
     },
     "execution_count": 42,
     "metadata": {},
     "output_type": "execute_result"
    }
   ],
   "source": [
    "solution._problem.outputs"
   ]
  },
  {
   "cell_type": "code",
   "execution_count": 43,
   "id": "f295b025-673d-48c3-9d8b-a270ab3fa4ba",
   "metadata": {
    "execution": {
     "iopub.execute_input": "2024-08-26T19:40:04.137483Z",
     "iopub.status.busy": "2024-08-26T19:40:04.136884Z",
     "iopub.status.idle": "2024-08-26T19:40:04.166357Z",
     "shell.execute_reply": "2024-08-26T19:40:04.165268Z",
     "shell.execute_reply.started": "2024-08-26T19:40:04.137435Z"
    }
   },
   "outputs": [
    {
     "data": {
      "text/plain": [
       "[[parameter: Fe\n",
       "  minimum: 60\n",
       "  maximum: 100\n",
       "  goal: 65\n",
       "  importance: 10,\n",
       "  parameter: SiO2\n",
       "  minimum: 2.8\n",
       "  maximum: 5.8\n",
       "  goal: 5.8\n",
       "  importance: 1000,\n",
       "  parameter: Al2O3\n",
       "  minimum: 2.5\n",
       "  maximum: 4.9\n",
       "  goal: 4.9\n",
       "  importance: 100,\n",
       "  parameter: P\n",
       "  minimum: 0.05\n",
       "  maximum: 0.07\n",
       "  goal: 0.07\n",
       "  importance: 100,\n",
       "  parameter: +31.5\n",
       "  minimum: 8\n",
       "  maximum: 10\n",
       "  goal: 10\n",
       "  importance: 100,\n",
       "  parameter: -6.3\n",
       "  minimum: 20\n",
       "  maximum: 25\n",
       "  goal: 25\n",
       "  importance: 100]]"
      ]
     },
     "execution_count": 43,
     "metadata": {},
     "output_type": "execute_result"
    }
   ],
   "source": [
    "requests = [\n",
    "    out.quality for out in solution._problem.outputs\n",
    "]\n",
    "requests"
   ]
  },
  {
   "cell_type": "code",
   "execution_count": 46,
   "id": "cd081ebf-d1f3-4a32-8a9d-15b3892fc42a",
   "metadata": {
    "execution": {
     "iopub.execute_input": "2024-08-26T19:41:29.103155Z",
     "iopub.status.busy": "2024-08-26T19:41:29.102584Z",
     "iopub.status.idle": "2024-08-26T19:41:29.109967Z",
     "shell.execute_reply": "2024-08-26T19:41:29.108762Z",
     "shell.execute_reply.started": "2024-08-26T19:41:29.103083Z"
    }
   },
   "outputs": [
    {
     "data": {
      "text/plain": [
       "91.04"
      ]
     },
     "execution_count": 46,
     "metadata": {},
     "output_type": "execute_result"
    }
   ],
   "source": [
    "max([x['start_time'] + x['duration'] for x in solution._reclaims])"
   ]
  },
  {
   "cell_type": "code",
   "execution_count": 47,
   "id": "53fe1ee9-0da2-4351-b254-7b54413f98c7",
   "metadata": {
    "execution": {
     "iopub.execute_input": "2024-08-26T19:43:24.461730Z",
     "iopub.status.busy": "2024-08-26T19:43:24.461400Z",
     "iopub.status.idle": "2024-08-26T19:43:24.466666Z",
     "shell.execute_reply": "2024-08-26T19:43:24.465982Z",
     "shell.execute_reply.started": "2024-08-26T19:43:24.461704Z"
    }
   },
   "outputs": [
    {
     "data": {
      "text/plain": [
       "['Instance_006', 1000, 1]"
      ]
     },
     "execution_count": 47,
     "metadata": {},
     "output_type": "execute_result"
    }
   ],
   "source": [
    "problem.info"
   ]
  },
  {
   "cell_type": "code",
   "execution_count": null,
   "id": "af2c554f-1ce2-4cb8-92bb-f0fbd93683ff",
   "metadata": {},
   "outputs": [],
   "source": [
    "problem._time_travel"
   ]
  }
 ],
 "metadata": {
  "kernelspec": {
   "display_name": "Python 3 (ipykernel)",
   "language": "python",
   "name": "python3"
  },
  "language_info": {
   "codemirror_mode": {
    "name": "ipython",
    "version": 3
   },
   "file_extension": ".py",
   "mimetype": "text/x-python",
   "name": "python",
   "nbconvert_exporter": "python",
   "pygments_lexer": "ipython3",
   "version": "3.10.14"
  }
 },
 "nbformat": 4,
 "nbformat_minor": 5
}
