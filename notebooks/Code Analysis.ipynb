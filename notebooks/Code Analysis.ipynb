{
 "cells": [
  {
   "cell_type": "code",
   "id": "initial_id",
   "metadata": {
    "collapsed": true,
    "ExecuteTime": {
     "end_time": "2024-08-20T18:05:57.155021Z",
     "start_time": "2024-08-20T18:05:57.150573Z"
    }
   },
   "source": [
    "import random\n",
    "import sys\n",
    "import time\n",
    "from typing import List, Optional\n",
    "\n",
    "from pyblend.algorithm.constructive import Constructive, LinModel, PostModel, PreModel\n",
    "from pyblend.algorithm.heuristic import Heuristic, LAHC, SA\n",
    "from pyblend.algorithm.neighborhood import (Shift, SimpleSwap, SmartShift,\n",
    "                                            SmartSimpleSwap, SmartSwap, SmartSwitch,\n",
    "                                            Swap, Switch)\n",
    "from pyblend.config import Objective, Parameters\n",
    "from pyblend.model.problem import Problem\n",
    "from pyblend.model.solution import Solution\n",
    "from pyblend.utils import handle_input_path, handle_output_path\n",
    "from pyblend.main import feedback_approach, solve, construct, read_args\n",
    "\n"
   ],
   "outputs": [],
   "execution_count": 9
  },
  {
   "metadata": {
    "ExecuteTime": {
     "end_time": "2024-08-20T18:06:01.662032Z",
     "start_time": "2024-08-20T18:06:01.658326Z"
    }
   },
   "cell_type": "code",
   "source": [
    "start_time = time.time()\n",
    "parms: Parameters = {\n",
    "    \"constructive\": \"postmodel\",\n",
    "    \"algorithm\": \"\",\n",
    "    \"feedback\": 0,\n",
    "    \"seed\": 0,\n",
    "    \"maxiters\": int(1e3),\n",
    "    \"lsize\": int(1e3),\n",
    "    \"alpha\": 0.9,\n",
    "    \"samax\": int(1e3),\n",
    "    \"t0\": 1.0,\n",
    "}"
   ],
   "id": "d7f015b3bddb64d6",
   "outputs": [],
   "execution_count": 10
  },
  {
   "metadata": {
    "ExecuteTime": {
     "end_time": "2024-08-20T18:06:03.618085Z",
     "start_time": "2024-08-20T18:06:03.602406Z"
    }
   },
   "cell_type": "code",
   "source": [
    "random.seed(parms[\"seed\"])\n",
    "\n",
    "input_path = handle_input_path(\"instance_1.json\")\n",
    "output_path = handle_output_path(\"../out/json/out_1-2.json\")"
   ],
   "id": "f60ad73578652fb3",
   "outputs": [],
   "execution_count": 11
  },
  {
   "metadata": {
    "ExecuteTime": {
     "end_time": "2024-08-20T18:06:41.078334Z",
     "start_time": "2024-08-20T18:06:39.935685Z"
    }
   },
   "cell_type": "code",
   "source": "problem: Problem = Problem(input_path)",
   "id": "1bd26c594aec9e2f",
   "outputs": [],
   "execution_count": 12
  },
  {
   "metadata": {
    "ExecuteTime": {
     "end_time": "2024-08-20T18:07:30.453705Z",
     "start_time": "2024-08-20T18:07:30.448777Z"
    }
   },
   "cell_type": "code",
   "source": "problem.outputs[0]",
   "id": "97b7be80df03fff8",
   "outputs": [
    {
     "data": {
      "text/plain": [
       "id: 1\n",
       "destination: 1\n",
       "weight: 300000\n",
       "quality: [parameter: Fe\n",
       "minimum: 57\n",
       "maximum: 100\n",
       "goal: 57\n",
       "importance: 10\n",
       ", parameter: SiO2\n",
       "minimum: 0\n",
       "maximum: 5.8\n",
       "goal: 5.8\n",
       "importance: 1000\n",
       ", parameter: Al2O3\n",
       "minimum: 0\n",
       "maximum: 4.9\n",
       "goal: 4.9\n",
       "importance: 100\n",
       ", parameter: P\n",
       "minimum: 0\n",
       "maximum: 0.07\n",
       "goal: 0.07\n",
       "importance: 100\n",
       ", parameter: +31.5\n",
       "minimum: 0\n",
       "maximum: 10\n",
       "goal: 10\n",
       "importance: 100\n",
       ", parameter: -6.3\n",
       "minimum: 0\n",
       "maximum: 25\n",
       "goal: 25\n",
       "importance: 100\n",
       "]\n",
       "time: 4"
      ]
     },
     "execution_count": 19,
     "metadata": {},
     "output_type": "execute_result"
    }
   ],
   "execution_count": 19
  },
  {
   "metadata": {
    "ExecuteTime": {
     "end_time": "2024-08-20T18:08:14.677369Z",
     "start_time": "2024-08-20T18:08:14.672450Z"
    }
   },
   "cell_type": "code",
   "source": "parms[\"constructive\"]",
   "id": "1802e58f59646b58",
   "outputs": [
    {
     "data": {
      "text/plain": [
       "'postmodel'"
      ]
     },
     "execution_count": 20,
     "metadata": {},
     "output_type": "execute_result"
    }
   ],
   "execution_count": 20
  },
  {
   "metadata": {
    "ExecuteTime": {
     "end_time": "2024-08-20T18:14:19.333245Z",
     "start_time": "2024-08-20T18:14:19.330454Z"
    }
   },
   "cell_type": "code",
   "source": "solution: Solution = Solution(problem)",
   "id": "2a68e3819a05e0a6",
   "outputs": [],
   "execution_count": 21
  },
  {
   "metadata": {
    "ExecuteTime": {
     "end_time": "2024-08-20T18:15:45.076933Z",
     "start_time": "2024-08-20T18:15:45.072739Z"
    }
   },
   "cell_type": "code",
   "source": "problem.info[1:]",
   "id": "f2afd9423414671c",
   "outputs": [
    {
     "data": {
      "text/plain": [
       "[1000, 1]"
      ]
     },
     "execution_count": 23,
     "metadata": {},
     "output_type": "execute_result"
    }
   ],
   "execution_count": 23
  },
  {
   "metadata": {},
   "cell_type": "code",
   "outputs": [],
   "execution_count": null,
   "source": "",
   "id": "e189e720a664abd2"
  },
  {
   "metadata": {
    "ExecuteTime": {
     "end_time": "2024-08-20T18:36:55.305298Z",
     "start_time": "2024-08-20T18:36:55.222484Z"
    }
   },
   "cell_type": "code",
   "source": "model: LinModel = LinModel(problem)",
   "id": "708b0b73a0eef05b",
   "outputs": [],
   "execution_count": 24
  },
  {
   "metadata": {
    "ExecuteTime": {
     "end_time": "2024-08-20T18:37:01.048145Z",
     "start_time": "2024-08-20T18:37:01.037878Z"
    }
   },
   "cell_type": "code",
   "source": "constructive: Constructive = construct(problem, solution, model, parms)\n",
   "id": "78a7cc4b47dd7d6e",
   "outputs": [
    {
     "name": "stdout",
     "output_type": "stream",
     "text": [
      "Welcome to the CBC MILP Solver \n",
      "Version: Trunk\n",
      "Build Date: Oct 28 2021 \n",
      "\n",
      "Starting solution of the Linear programming problem using Primal Simplex\n",
      "\n"
     ]
    }
   ],
   "execution_count": 25
  },
  {
   "metadata": {
    "ExecuteTime": {
     "end_time": "2024-08-20T18:37:40.623160Z",
     "start_time": "2024-08-20T18:37:40.617271Z"
    }
   },
   "cell_type": "code",
   "source": "constructive.solution.work_time(1)",
   "id": "b31d1c0f0d50d9eb",
   "outputs": [
    {
     "data": {
      "text/plain": [
       "(0.06, 161.76)"
      ]
     },
     "execution_count": 31,
     "metadata": {},
     "output_type": "execute_result"
    }
   ],
   "execution_count": 31
  },
  {
   "metadata": {
    "ExecuteTime": {
     "end_time": "2024-08-20T18:42:10.238111Z",
     "start_time": "2024-08-20T18:42:10.233480Z"
    }
   },
   "cell_type": "code",
   "source": [
    "constructive._problem.outputs[0].weight / sum([\n",
    "                eng.speed_reclaim for eng in constructive.problem.engines\n",
    "            ])"
   ],
   "id": "de1661c38736c2e9",
   "outputs": [
    {
     "data": {
      "text/plain": [
       "115.38461538461539"
      ]
     },
     "execution_count": 36,
     "metadata": {},
     "output_type": "execute_result"
    }
   ],
   "execution_count": 36
  },
  {
   "metadata": {},
   "cell_type": "code",
   "outputs": [],
   "execution_count": null,
   "source": [
    "solver: Optional[Heuristic] = None\n",
    "if parms[\"algorithm\"] != \"\":\n",
    "    solver = solve(problem, solution, constructive, parms)\n",
    "    solution = solver.best_solution\n",
    "\n",
    "if parms[\"feedback\"] > 0:\n",
    "    feedback_approach(solution, model, solver, constructive, parms)\n",
    "\n",
    "solution.set_deliveries()\n",
    "solution.write(output_path, round(time.time()-start_time, 2))"
   ],
   "id": "4863636adeccd5ab"
  }
 ],
 "metadata": {
  "kernelspec": {
   "display_name": "Python 3",
   "language": "python",
   "name": "python3"
  },
  "language_info": {
   "codemirror_mode": {
    "name": "ipython",
    "version": 2
   },
   "file_extension": ".py",
   "mimetype": "text/x-python",
   "name": "python",
   "nbconvert_exporter": "python",
   "pygments_lexer": "ipython2",
   "version": "2.7.6"
  }
 },
 "nbformat": 4,
 "nbformat_minor": 5
}
